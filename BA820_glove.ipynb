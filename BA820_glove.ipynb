{
 "cells": [
  {
   "cell_type": "code",
   "execution_count": 55,
   "id": "611215c5-0462-4257-9de1-16f5009b4797",
   "metadata": {
    "tags": []
   },
   "outputs": [],
   "source": [
    "import pandas as pd\n",
    "sample_df = pd.read_csv('gs://ba820-project-files/sample_50000.csv')"
   ]
  },
  {
   "cell_type": "code",
   "execution_count": 56,
   "id": "78b544b8-3abf-478f-85cb-829562520fdf",
   "metadata": {
    "tags": []
   },
   "outputs": [
    {
     "data": {
      "text/html": [
       "<div>\n",
       "<style scoped>\n",
       "    .dataframe tbody tr th:only-of-type {\n",
       "        vertical-align: middle;\n",
       "    }\n",
       "\n",
       "    .dataframe tbody tr th {\n",
       "        vertical-align: top;\n",
       "    }\n",
       "\n",
       "    .dataframe thead th {\n",
       "        text-align: right;\n",
       "    }\n",
       "</style>\n",
       "<table border=\"1\" class=\"dataframe\">\n",
       "  <thead>\n",
       "    <tr style=\"text-align: right;\">\n",
       "      <th></th>\n",
       "      <th>level_0</th>\n",
       "      <th>index</th>\n",
       "      <th>drugName</th>\n",
       "      <th>condition</th>\n",
       "      <th>review</th>\n",
       "      <th>rating</th>\n",
       "      <th>date</th>\n",
       "      <th>usefulCount</th>\n",
       "      <th>processed_review</th>\n",
       "      <th>sentiment</th>\n",
       "    </tr>\n",
       "  </thead>\n",
       "  <tbody>\n",
       "    <tr>\n",
       "      <th>0</th>\n",
       "      <td>147774</td>\n",
       "      <td>160342</td>\n",
       "      <td>Buspirone</td>\n",
       "      <td>Anxiety</td>\n",
       "      <td>\"Have had some anxiety for the second time in ...</td>\n",
       "      <td>1.0</td>\n",
       "      <td>October 2, 2016</td>\n",
       "      <td>6</td>\n",
       "      <td>anxieti second time life  first time well xan...</td>\n",
       "      <td>negative</td>\n",
       "    </tr>\n",
       "    <tr>\n",
       "      <th>1</th>\n",
       "      <td>90307</td>\n",
       "      <td>97984</td>\n",
       "      <td>Nexplanon</td>\n",
       "      <td>Birth Control</td>\n",
       "      <td>\"My implant was inserted in July 2014 and for ...</td>\n",
       "      <td>5.0</td>\n",
       "      <td>September 10, 2015</td>\n",
       "      <td>2</td>\n",
       "      <td>implant insert juli 2014 first six month  spo...</td>\n",
       "      <td>neutral</td>\n",
       "    </tr>\n",
       "    <tr>\n",
       "      <th>2</th>\n",
       "      <td>193758</td>\n",
       "      <td>210384</td>\n",
       "      <td>Linzess</td>\n",
       "      <td>Constipation</td>\n",
       "      <td>\"A nurse practitioner gave me samples. I took ...</td>\n",
       "      <td>1.0</td>\n",
       "      <td>July 13, 2014</td>\n",
       "      <td>54</td>\n",
       "      <td>nurs practition gave sampl  took one pill  cl...</td>\n",
       "      <td>negative</td>\n",
       "    </tr>\n",
       "    <tr>\n",
       "      <th>3</th>\n",
       "      <td>112907</td>\n",
       "      <td>122447</td>\n",
       "      <td>Linaclotide</td>\n",
       "      <td>Constipation, Chronic</td>\n",
       "      <td>\"I&amp;#039;m a 45 yr old woman who has had IBS wi...</td>\n",
       "      <td>9.0</td>\n",
       "      <td>July 2, 2017</td>\n",
       "      <td>13</td>\n",
       "      <td>45 yr old woman ib chronic constip year   de...</td>\n",
       "      <td>positive</td>\n",
       "    </tr>\n",
       "    <tr>\n",
       "      <th>4</th>\n",
       "      <td>89225</td>\n",
       "      <td>96812</td>\n",
       "      <td>Ambien</td>\n",
       "      <td>10&lt;/span&gt; users found this comment helpful.</td>\n",
       "      <td>\"Yes it works real good im addicted to it. I h...</td>\n",
       "      <td>9.0</td>\n",
       "      <td>November 20, 2016</td>\n",
       "      <td>10</td>\n",
       "      <td>ye work real good im addict  take last 4 year...</td>\n",
       "      <td>positive</td>\n",
       "    </tr>\n",
       "    <tr>\n",
       "      <th>...</th>\n",
       "      <td>...</td>\n",
       "      <td>...</td>\n",
       "      <td>...</td>\n",
       "      <td>...</td>\n",
       "      <td>...</td>\n",
       "      <td>...</td>\n",
       "      <td>...</td>\n",
       "      <td>...</td>\n",
       "      <td>...</td>\n",
       "      <td>...</td>\n",
       "    </tr>\n",
       "    <tr>\n",
       "      <th>49995</th>\n",
       "      <td>152525</td>\n",
       "      <td>165573</td>\n",
       "      <td>Levonorgestrel</td>\n",
       "      <td>Emergency Contraception</td>\n",
       "      <td>\"The condom broke and by time we both noticed ...</td>\n",
       "      <td>7.0</td>\n",
       "      <td>May 16, 2017</td>\n",
       "      <td>8</td>\n",
       "      <td>condom broke time notic alreadi late  roughli...</td>\n",
       "      <td>positive</td>\n",
       "    </tr>\n",
       "    <tr>\n",
       "      <th>49996</th>\n",
       "      <td>47178</td>\n",
       "      <td>51271</td>\n",
       "      <td>Azithromycin</td>\n",
       "      <td>Bronchitis</td>\n",
       "      <td>\"I&amp;#039;ve been in the throws of bronchitis th...</td>\n",
       "      <td>10.0</td>\n",
       "      <td>October 21, 2015</td>\n",
       "      <td>30</td>\n",
       "      <td>throw bronchiti week  start throat sore  eve...</td>\n",
       "      <td>positive</td>\n",
       "    </tr>\n",
       "    <tr>\n",
       "      <th>49997</th>\n",
       "      <td>100169</td>\n",
       "      <td>108686</td>\n",
       "      <td>Nexplanon</td>\n",
       "      <td>Birth Control</td>\n",
       "      <td>\"Yeast infections, moodiness, depression and n...</td>\n",
       "      <td>1.0</td>\n",
       "      <td>October 18, 2017</td>\n",
       "      <td>2</td>\n",
       "      <td>yeast infect  moodi  depress numb finger side...</td>\n",
       "      <td>negative</td>\n",
       "    </tr>\n",
       "    <tr>\n",
       "      <th>49998</th>\n",
       "      <td>46392</td>\n",
       "      <td>50420</td>\n",
       "      <td>Gabapentin</td>\n",
       "      <td>Migraine</td>\n",
       "      <td>\"My 11 year old was prescribed Gabapentin for ...</td>\n",
       "      <td>1.0</td>\n",
       "      <td>July 31, 2013</td>\n",
       "      <td>56</td>\n",
       "      <td>11 year old prescrib gabapentin chronic heada...</td>\n",
       "      <td>negative</td>\n",
       "    </tr>\n",
       "    <tr>\n",
       "      <th>49999</th>\n",
       "      <td>30790</td>\n",
       "      <td>33382</td>\n",
       "      <td>Microgestin Fe 1 / 20</td>\n",
       "      <td>Birth Control</td>\n",
       "      <td>\"I just finished my first pack and haven&amp;#039;...</td>\n",
       "      <td>7.0</td>\n",
       "      <td>February 12, 2016</td>\n",
       "      <td>4</td>\n",
       "      <td>finish first pack  mani side effect  worri na...</td>\n",
       "      <td>positive</td>\n",
       "    </tr>\n",
       "  </tbody>\n",
       "</table>\n",
       "<p>50000 rows × 10 columns</p>\n",
       "</div>"
      ],
      "text/plain": [
       "       level_0   index               drugName  \\\n",
       "0       147774  160342              Buspirone   \n",
       "1        90307   97984              Nexplanon   \n",
       "2       193758  210384                Linzess   \n",
       "3       112907  122447            Linaclotide   \n",
       "4        89225   96812                 Ambien   \n",
       "...        ...     ...                    ...   \n",
       "49995   152525  165573         Levonorgestrel   \n",
       "49996    47178   51271           Azithromycin   \n",
       "49997   100169  108686              Nexplanon   \n",
       "49998    46392   50420             Gabapentin   \n",
       "49999    30790   33382  Microgestin Fe 1 / 20   \n",
       "\n",
       "                                         condition  \\\n",
       "0                                          Anxiety   \n",
       "1                                    Birth Control   \n",
       "2                                     Constipation   \n",
       "3                            Constipation, Chronic   \n",
       "4      10</span> users found this comment helpful.   \n",
       "...                                            ...   \n",
       "49995                      Emergency Contraception   \n",
       "49996                                   Bronchitis   \n",
       "49997                                Birth Control   \n",
       "49998                                     Migraine   \n",
       "49999                                Birth Control   \n",
       "\n",
       "                                                  review  rating  \\\n",
       "0      \"Have had some anxiety for the second time in ...     1.0   \n",
       "1      \"My implant was inserted in July 2014 and for ...     5.0   \n",
       "2      \"A nurse practitioner gave me samples. I took ...     1.0   \n",
       "3      \"I&#039;m a 45 yr old woman who has had IBS wi...     9.0   \n",
       "4      \"Yes it works real good im addicted to it. I h...     9.0   \n",
       "...                                                  ...     ...   \n",
       "49995  \"The condom broke and by time we both noticed ...     7.0   \n",
       "49996  \"I&#039;ve been in the throws of bronchitis th...    10.0   \n",
       "49997  \"Yeast infections, moodiness, depression and n...     1.0   \n",
       "49998  \"My 11 year old was prescribed Gabapentin for ...     1.0   \n",
       "49999  \"I just finished my first pack and haven&#039;...     7.0   \n",
       "\n",
       "                     date  usefulCount  \\\n",
       "0         October 2, 2016            6   \n",
       "1      September 10, 2015            2   \n",
       "2           July 13, 2014           54   \n",
       "3            July 2, 2017           13   \n",
       "4       November 20, 2016           10   \n",
       "...                   ...          ...   \n",
       "49995        May 16, 2017            8   \n",
       "49996    October 21, 2015           30   \n",
       "49997    October 18, 2017            2   \n",
       "49998       July 31, 2013           56   \n",
       "49999   February 12, 2016            4   \n",
       "\n",
       "                                        processed_review sentiment  \n",
       "0       anxieti second time life  first time well xan...  negative  \n",
       "1       implant insert juli 2014 first six month  spo...   neutral  \n",
       "2       nurs practition gave sampl  took one pill  cl...  negative  \n",
       "3        45 yr old woman ib chronic constip year   de...  positive  \n",
       "4       ye work real good im addict  take last 4 year...  positive  \n",
       "...                                                  ...       ...  \n",
       "49995   condom broke time notic alreadi late  roughli...  positive  \n",
       "49996    throw bronchiti week  start throat sore  eve...  positive  \n",
       "49997   yeast infect  moodi  depress numb finger side...  negative  \n",
       "49998   11 year old prescrib gabapentin chronic heada...  negative  \n",
       "49999   finish first pack  mani side effect  worri na...  positive  \n",
       "\n",
       "[50000 rows x 10 columns]"
      ]
     },
     "execution_count": 56,
     "metadata": {},
     "output_type": "execute_result"
    }
   ],
   "source": [
    "sample_df"
   ]
  },
  {
   "cell_type": "code",
   "execution_count": 8,
   "id": "a4bef50d-b316-4e35-8ada-453302c4f591",
   "metadata": {
    "tags": []
   },
   "outputs": [
    {
     "name": "stdout",
     "output_type": "stream",
     "text": [
      "Collecting nltk\n",
      "  Downloading nltk-3.8.1-py3-none-any.whl.metadata (2.8 kB)\n",
      "Requirement already satisfied: click in /opt/conda/lib/python3.10/site-packages (from nltk) (8.1.7)\n",
      "Requirement already satisfied: joblib in /opt/conda/lib/python3.10/site-packages (from nltk) (1.3.2)\n",
      "Collecting regex>=2021.8.3 (from nltk)\n",
      "  Downloading regex-2023.12.25-cp310-cp310-manylinux_2_17_x86_64.manylinux2014_x86_64.whl.metadata (40 kB)\n",
      "\u001b[2K     \u001b[90m━━━━━━━━━━━━━━━━━━━━━━━━━━━━━━━━━━━━━━━━\u001b[0m \u001b[32m40.9/40.9 kB\u001b[0m \u001b[31m2.2 MB/s\u001b[0m eta \u001b[36m0:00:00\u001b[0m\n",
      "\u001b[?25hRequirement already satisfied: tqdm in /opt/conda/lib/python3.10/site-packages (from nltk) (4.66.2)\n",
      "Downloading nltk-3.8.1-py3-none-any.whl (1.5 MB)\n",
      "\u001b[2K   \u001b[90m━━━━━━━━━━━━━━━━━━━━━━━━━━━━━━━━━━━━━━━━\u001b[0m \u001b[32m1.5/1.5 MB\u001b[0m \u001b[31m25.6 MB/s\u001b[0m eta \u001b[36m0:00:00\u001b[0ma \u001b[36m0:00:01\u001b[0m\n",
      "\u001b[?25hDownloading regex-2023.12.25-cp310-cp310-manylinux_2_17_x86_64.manylinux2014_x86_64.whl (773 kB)\n",
      "\u001b[2K   \u001b[90m━━━━━━━━━━━━━━━━━━━━━━━━━━━━━━━━━━━━━━━━\u001b[0m \u001b[32m774.0/774.0 kB\u001b[0m \u001b[31m45.1 MB/s\u001b[0m eta \u001b[36m0:00:00\u001b[0m\n",
      "\u001b[?25hInstalling collected packages: regex, nltk\n",
      "Successfully installed nltk-3.8.1 regex-2023.12.25\n"
     ]
    }
   ],
   "source": [
    "!pip install nltk"
   ]
  },
  {
   "cell_type": "code",
   "execution_count": 57,
   "id": "af9eb552-962c-43cc-8aa1-c659370ddc3d",
   "metadata": {
    "tags": []
   },
   "outputs": [
    {
     "name": "stderr",
     "output_type": "stream",
     "text": [
      "[nltk_data] Downloading package stopwords to\n",
      "[nltk_data]     /home/jupyter/nltk_data...\n",
      "[nltk_data]   Package stopwords is already up-to-date!\n"
     ]
    }
   ],
   "source": [
    "from nltk.corpus import stopwords\n",
    "nltk.download('stopwords')\n",
    "#creating a set of English stopwords from NLTK\n",
    "stop_words = set(stopwords.words('english'))"
   ]
  },
  {
   "cell_type": "code",
   "execution_count": 58,
   "id": "0ff79a94-ba6c-46b4-b49b-796c38c8efce",
   "metadata": {
    "tags": []
   },
   "outputs": [],
   "source": [
    "def process_text(text):\n",
    "    words = nltk.word_tokenize(text) #Tokenizing the input text into words\n",
    "    filtered_words = [word for word in words if word.lower() not in stop_words] #filtering out stopwords from the tokenized words\n",
    "    return ' '.join(filtered_words) #joining the filtered words back into a single string\n",
    "\n",
    "sample_df['spacy_review'] = sample_df['review'].apply(process_text)"
   ]
  },
  {
   "cell_type": "code",
   "execution_count": 59,
   "id": "85aec884-bbd7-4dd8-a76c-0205b1549904",
   "metadata": {
    "tags": []
   },
   "outputs": [],
   "source": [
    "sample_df['spacy_review'] = sample_df['spacy_review'].str.replace('& # 039 ;', '')\n",
    "#sample_df.head()"
   ]
  },
  {
   "cell_type": "code",
   "execution_count": 60,
   "id": "1931f0ed-44a0-47e3-92ce-040fac72eb2d",
   "metadata": {
    "tags": []
   },
   "outputs": [],
   "source": [
    "sample_df['spacy_review'] = sample_df['spacy_review'].str.lower()"
   ]
  },
  {
   "cell_type": "code",
   "execution_count": 61,
   "id": "8a9007f1-5355-4d87-b19f-98f40b92462c",
   "metadata": {
    "tags": []
   },
   "outputs": [],
   "source": [
    "import string\n",
    "def remove_punctuation(text):\n",
    "    translator = str.maketrans('', '', string.punctuation)#creating a translation table to remove punctuation\n",
    "    return text.translate(translator)"
   ]
  },
  {
   "cell_type": "code",
   "execution_count": 62,
   "id": "b5363efb-8fd6-4d3a-8c59-12c494e92c63",
   "metadata": {
    "tags": []
   },
   "outputs": [],
   "source": [
    "sample_df['spacy_review'] = sample_df['spacy_review'].apply(remove_punctuation)"
   ]
  },
  {
   "cell_type": "code",
   "execution_count": 63,
   "id": "344bdf29-14bc-4697-aa4f-f5f62d3e501f",
   "metadata": {
    "tags": []
   },
   "outputs": [],
   "source": [
    "from nltk.tokenize import word_tokenize, wordpunct_tokenize, sent_tokenize\n",
    "\n",
    "import nltk"
   ]
  },
  {
   "cell_type": "code",
   "execution_count": 64,
   "id": "fe81febe-b332-4b98-aae4-239d3cf6c34b",
   "metadata": {
    "tags": []
   },
   "outputs": [
    {
     "name": "stderr",
     "output_type": "stream",
     "text": [
      "[nltk_data] Downloading package punkt to /home/jupyter/nltk_data...\n",
      "[nltk_data]   Package punkt is already up-to-date!\n"
     ]
    }
   ],
   "source": [
    "nltk.download('punkt')\n",
    "\n",
    "tokenized_word = [word_tokenize(review) for review in sample_df['review']]"
   ]
  },
  {
   "cell_type": "code",
   "execution_count": 65,
   "id": "58352220-19f4-4a40-b0cd-e9f2ab2fea2f",
   "metadata": {
    "tags": []
   },
   "outputs": [
    {
     "data": {
      "text/html": [
       "<div>\n",
       "<style scoped>\n",
       "    .dataframe tbody tr th:only-of-type {\n",
       "        vertical-align: middle;\n",
       "    }\n",
       "\n",
       "    .dataframe tbody tr th {\n",
       "        vertical-align: top;\n",
       "    }\n",
       "\n",
       "    .dataframe thead th {\n",
       "        text-align: right;\n",
       "    }\n",
       "</style>\n",
       "<table border=\"1\" class=\"dataframe\">\n",
       "  <thead>\n",
       "    <tr style=\"text-align: right;\">\n",
       "      <th></th>\n",
       "      <th>level_0</th>\n",
       "      <th>index</th>\n",
       "      <th>drugName</th>\n",
       "      <th>condition</th>\n",
       "      <th>review</th>\n",
       "      <th>rating</th>\n",
       "      <th>date</th>\n",
       "      <th>usefulCount</th>\n",
       "      <th>processed_review</th>\n",
       "      <th>sentiment</th>\n",
       "      <th>spacy_review</th>\n",
       "    </tr>\n",
       "  </thead>\n",
       "  <tbody>\n",
       "    <tr>\n",
       "      <th>0</th>\n",
       "      <td>147774</td>\n",
       "      <td>160342</td>\n",
       "      <td>Buspirone</td>\n",
       "      <td>Anxiety</td>\n",
       "      <td>\"Have had some anxiety for the second time in ...</td>\n",
       "      <td>1.0</td>\n",
       "      <td>October 2, 2016</td>\n",
       "      <td>6</td>\n",
       "      <td>anxieti second time life  first time well xan...</td>\n",
       "      <td>negative</td>\n",
       "      <td>anxiety second time life  first time well xan...</td>\n",
       "    </tr>\n",
       "    <tr>\n",
       "      <th>1</th>\n",
       "      <td>90307</td>\n",
       "      <td>97984</td>\n",
       "      <td>Nexplanon</td>\n",
       "      <td>Birth Control</td>\n",
       "      <td>\"My implant was inserted in July 2014 and for ...</td>\n",
       "      <td>5.0</td>\n",
       "      <td>September 10, 2015</td>\n",
       "      <td>2</td>\n",
       "      <td>implant insert juli 2014 first six month  spo...</td>\n",
       "      <td>neutral</td>\n",
       "      <td>implant inserted july 2014 first six months  ...</td>\n",
       "    </tr>\n",
       "    <tr>\n",
       "      <th>2</th>\n",
       "      <td>193758</td>\n",
       "      <td>210384</td>\n",
       "      <td>Linzess</td>\n",
       "      <td>Constipation</td>\n",
       "      <td>\"A nurse practitioner gave me samples. I took ...</td>\n",
       "      <td>1.0</td>\n",
       "      <td>July 13, 2014</td>\n",
       "      <td>54</td>\n",
       "      <td>nurs practition gave sampl  took one pill  cl...</td>\n",
       "      <td>negative</td>\n",
       "      <td>nurse practitioner gave samples  took one pil...</td>\n",
       "    </tr>\n",
       "    <tr>\n",
       "      <th>3</th>\n",
       "      <td>112907</td>\n",
       "      <td>122447</td>\n",
       "      <td>Linaclotide</td>\n",
       "      <td>Constipation, Chronic</td>\n",
       "      <td>\"I&amp;#039;m a 45 yr old woman who has had IBS wi...</td>\n",
       "      <td>9.0</td>\n",
       "      <td>July 2, 2017</td>\n",
       "      <td>13</td>\n",
       "      <td>45 yr old woman ib chronic constip year   de...</td>\n",
       "      <td>positive</td>\n",
       "      <td>45 yr old woman ibs chronic constipation yea...</td>\n",
       "    </tr>\n",
       "    <tr>\n",
       "      <th>4</th>\n",
       "      <td>89225</td>\n",
       "      <td>96812</td>\n",
       "      <td>Ambien</td>\n",
       "      <td>10&lt;/span&gt; users found this comment helpful.</td>\n",
       "      <td>\"Yes it works real good im addicted to it. I h...</td>\n",
       "      <td>9.0</td>\n",
       "      <td>November 20, 2016</td>\n",
       "      <td>10</td>\n",
       "      <td>ye work real good im addict  take last 4 year...</td>\n",
       "      <td>positive</td>\n",
       "      <td>yes works real good im addicted  taking last ...</td>\n",
       "    </tr>\n",
       "  </tbody>\n",
       "</table>\n",
       "</div>"
      ],
      "text/plain": [
       "   level_0   index     drugName                                    condition  \\\n",
       "0   147774  160342    Buspirone                                      Anxiety   \n",
       "1    90307   97984    Nexplanon                                Birth Control   \n",
       "2   193758  210384      Linzess                                 Constipation   \n",
       "3   112907  122447  Linaclotide                        Constipation, Chronic   \n",
       "4    89225   96812       Ambien  10</span> users found this comment helpful.   \n",
       "\n",
       "                                              review  rating  \\\n",
       "0  \"Have had some anxiety for the second time in ...     1.0   \n",
       "1  \"My implant was inserted in July 2014 and for ...     5.0   \n",
       "2  \"A nurse practitioner gave me samples. I took ...     1.0   \n",
       "3  \"I&#039;m a 45 yr old woman who has had IBS wi...     9.0   \n",
       "4  \"Yes it works real good im addicted to it. I h...     9.0   \n",
       "\n",
       "                 date  usefulCount  \\\n",
       "0     October 2, 2016            6   \n",
       "1  September 10, 2015            2   \n",
       "2       July 13, 2014           54   \n",
       "3        July 2, 2017           13   \n",
       "4   November 20, 2016           10   \n",
       "\n",
       "                                    processed_review sentiment  \\\n",
       "0   anxieti second time life  first time well xan...  negative   \n",
       "1   implant insert juli 2014 first six month  spo...   neutral   \n",
       "2   nurs practition gave sampl  took one pill  cl...  negative   \n",
       "3    45 yr old woman ib chronic constip year   de...  positive   \n",
       "4   ye work real good im addict  take last 4 year...  positive   \n",
       "\n",
       "                                        spacy_review  \n",
       "0   anxiety second time life  first time well xan...  \n",
       "1   implant inserted july 2014 first six months  ...  \n",
       "2   nurse practitioner gave samples  took one pil...  \n",
       "3    45 yr old woman ibs chronic constipation yea...  \n",
       "4   yes works real good im addicted  taking last ...  "
      ]
     },
     "execution_count": 65,
     "metadata": {},
     "output_type": "execute_result"
    }
   ],
   "source": [
    "sample_df.head()"
   ]
  },
  {
   "cell_type": "code",
   "execution_count": 42,
   "id": "0d098a27-596e-4595-94f4-a8842b74b54d",
   "metadata": {
    "tags": []
   },
   "outputs": [],
   "source": [
    "#tokenized_word"
   ]
  },
  {
   "cell_type": "code",
   "execution_count": 17,
   "id": "55441ff9-b350-4aa7-9556-5424bc097856",
   "metadata": {
    "tags": []
   },
   "outputs": [
    {
     "name": "stdout",
     "output_type": "stream",
     "text": [
      "Collecting gensim\n",
      "  Downloading gensim-4.3.2-cp310-cp310-manylinux_2_17_x86_64.manylinux2014_x86_64.whl.metadata (8.4 kB)\n",
      "Requirement already satisfied: numpy>=1.18.5 in /opt/conda/lib/python3.10/site-packages (from gensim) (1.25.2)\n",
      "Requirement already satisfied: scipy>=1.7.0 in /opt/conda/lib/python3.10/site-packages (from gensim) (1.11.4)\n",
      "Requirement already satisfied: smart-open>=1.8.1 in /opt/conda/lib/python3.10/site-packages (from gensim) (6.4.0)\n",
      "Downloading gensim-4.3.2-cp310-cp310-manylinux_2_17_x86_64.manylinux2014_x86_64.whl (26.5 MB)\n",
      "\u001b[2K   \u001b[90m━━━━━━━━━━━━━━━━━━━━━━━━━━━━━━━━━━━━━━━━\u001b[0m \u001b[32m26.5/26.5 MB\u001b[0m \u001b[31m62.5 MB/s\u001b[0m eta \u001b[36m0:00:00\u001b[0m:00:01\u001b[0m00:01\u001b[0m\n",
      "\u001b[?25hInstalling collected packages: gensim\n",
      "Successfully installed gensim-4.3.2\n",
      "Note: you may need to restart the kernel to use updated packages.\n"
     ]
    }
   ],
   "source": [
    "pip install gensim"
   ]
  },
  {
   "cell_type": "code",
   "execution_count": 19,
   "id": "ca68ff08-9776-4238-bf2a-c5b7f57413a6",
   "metadata": {
    "tags": []
   },
   "outputs": [
    {
     "name": "stdout",
     "output_type": "stream",
     "text": [
      "[=================---------------------------------] 35.5% 23.4/66.0MB downloaded"
     ]
    },
    {
     "name": "stderr",
     "output_type": "stream",
     "text": [
      "IOPub message rate exceeded.\n",
      "The Jupyter server will temporarily stop sending output\n",
      "to the client in order to avoid crashing it.\n",
      "To change this limit, set the config variable\n",
      "`--ServerApp.iopub_msg_rate_limit`.\n",
      "\n",
      "Current values:\n",
      "ServerApp.iopub_msg_rate_limit=1000.0 (msgs/sec)\n",
      "ServerApp.rate_limit_window=3.0 (secs)\n",
      "\n"
     ]
    },
    {
     "name": "stdout",
     "output_type": "stream",
     "text": [
      "[========================================----------] 81.3% 53.6/66.0MB downloaded"
     ]
    },
    {
     "name": "stderr",
     "output_type": "stream",
     "text": [
      "IOPub message rate exceeded.\n",
      "The Jupyter server will temporarily stop sending output\n",
      "to the client in order to avoid crashing it.\n",
      "To change this limit, set the config variable\n",
      "`--ServerApp.iopub_msg_rate_limit`.\n",
      "\n",
      "Current values:\n",
      "ServerApp.iopub_msg_rate_limit=1000.0 (msgs/sec)\n",
      "ServerApp.rate_limit_window=3.0 (secs)\n",
      "\n"
     ]
    },
    {
     "name": "stdout",
     "output_type": "stream",
     "text": [
      "[==================================================] 100.0% 66.0/66.0MB downloaded\n"
     ]
    }
   ],
   "source": [
    "from gensim import downloader\n",
    "\n",
    "# load the GloVe model\n",
    "glove_model = downloader.load(\"glove-wiki-gigaword-50\")"
   ]
  },
  {
   "cell_type": "code",
   "execution_count": 22,
   "id": "9f77d43f-2a5a-45f2-bf87-09eb2c2dc745",
   "metadata": {
    "tags": []
   },
   "outputs": [
    {
     "name": "stdout",
     "output_type": "stream",
     "text": [
      "Collecting spacy\n",
      "  Downloading spacy-3.7.4-cp310-cp310-manylinux_2_17_x86_64.manylinux2014_x86_64.whl.metadata (27 kB)\n",
      "Collecting spacy-legacy<3.1.0,>=3.0.11 (from spacy)\n",
      "  Downloading spacy_legacy-3.0.12-py2.py3-none-any.whl.metadata (2.8 kB)\n",
      "Collecting spacy-loggers<2.0.0,>=1.0.0 (from spacy)\n",
      "  Downloading spacy_loggers-1.0.5-py3-none-any.whl.metadata (23 kB)\n",
      "Collecting murmurhash<1.1.0,>=0.28.0 (from spacy)\n",
      "  Downloading murmurhash-1.0.10-cp310-cp310-manylinux_2_5_x86_64.manylinux1_x86_64.manylinux_2_17_x86_64.manylinux2014_x86_64.whl.metadata (2.0 kB)\n",
      "Collecting cymem<2.1.0,>=2.0.2 (from spacy)\n",
      "  Downloading cymem-2.0.8-cp310-cp310-manylinux_2_17_x86_64.manylinux2014_x86_64.whl.metadata (8.4 kB)\n",
      "Collecting preshed<3.1.0,>=3.0.2 (from spacy)\n",
      "  Downloading preshed-3.0.9-cp310-cp310-manylinux_2_5_x86_64.manylinux1_x86_64.manylinux_2_17_x86_64.manylinux2014_x86_64.whl.metadata (2.2 kB)\n",
      "Collecting thinc<8.3.0,>=8.2.2 (from spacy)\n",
      "  Downloading thinc-8.2.3-cp310-cp310-manylinux_2_17_x86_64.manylinux2014_x86_64.whl.metadata (15 kB)\n",
      "Collecting wasabi<1.2.0,>=0.9.1 (from spacy)\n",
      "  Downloading wasabi-1.1.2-py3-none-any.whl.metadata (28 kB)\n",
      "Collecting srsly<3.0.0,>=2.4.3 (from spacy)\n",
      "  Downloading srsly-2.4.8-cp310-cp310-manylinux_2_17_x86_64.manylinux2014_x86_64.whl.metadata (20 kB)\n",
      "Collecting catalogue<2.1.0,>=2.0.6 (from spacy)\n",
      "  Downloading catalogue-2.0.10-py3-none-any.whl.metadata (14 kB)\n",
      "Collecting weasel<0.4.0,>=0.1.0 (from spacy)\n",
      "  Downloading weasel-0.3.4-py3-none-any.whl.metadata (4.7 kB)\n",
      "Requirement already satisfied: typer<0.10.0,>=0.3.0 in /opt/conda/lib/python3.10/site-packages (from spacy) (0.9.0)\n",
      "Requirement already satisfied: smart-open<7.0.0,>=5.2.1 in /opt/conda/lib/python3.10/site-packages (from spacy) (6.4.0)\n",
      "Requirement already satisfied: tqdm<5.0.0,>=4.38.0 in /opt/conda/lib/python3.10/site-packages (from spacy) (4.66.2)\n",
      "Requirement already satisfied: requests<3.0.0,>=2.13.0 in /opt/conda/lib/python3.10/site-packages (from spacy) (2.31.0)\n",
      "Requirement already satisfied: pydantic!=1.8,!=1.8.1,<3.0.0,>=1.7.4 in /opt/conda/lib/python3.10/site-packages (from spacy) (2.6.1)\n",
      "Requirement already satisfied: jinja2 in /opt/conda/lib/python3.10/site-packages (from spacy) (3.1.3)\n",
      "Requirement already satisfied: setuptools in /opt/conda/lib/python3.10/site-packages (from spacy) (69.0.3)\n",
      "Requirement already satisfied: packaging>=20.0 in /opt/conda/lib/python3.10/site-packages (from spacy) (23.2)\n",
      "Collecting langcodes<4.0.0,>=3.2.0 (from spacy)\n",
      "  Downloading langcodes-3.3.0-py3-none-any.whl.metadata (29 kB)\n",
      "Requirement already satisfied: numpy>=1.19.0 in /opt/conda/lib/python3.10/site-packages (from spacy) (1.25.2)\n",
      "Requirement already satisfied: annotated-types>=0.4.0 in /opt/conda/lib/python3.10/site-packages (from pydantic!=1.8,!=1.8.1,<3.0.0,>=1.7.4->spacy) (0.6.0)\n",
      "Requirement already satisfied: pydantic-core==2.16.2 in /opt/conda/lib/python3.10/site-packages (from pydantic!=1.8,!=1.8.1,<3.0.0,>=1.7.4->spacy) (2.16.2)\n",
      "Requirement already satisfied: typing-extensions>=4.6.1 in /opt/conda/lib/python3.10/site-packages (from pydantic!=1.8,!=1.8.1,<3.0.0,>=1.7.4->spacy) (4.9.0)\n",
      "Requirement already satisfied: charset-normalizer<4,>=2 in /opt/conda/lib/python3.10/site-packages (from requests<3.0.0,>=2.13.0->spacy) (3.3.2)\n",
      "Requirement already satisfied: idna<4,>=2.5 in /opt/conda/lib/python3.10/site-packages (from requests<3.0.0,>=2.13.0->spacy) (3.6)\n",
      "Requirement already satisfied: urllib3<3,>=1.21.1 in /opt/conda/lib/python3.10/site-packages (from requests<3.0.0,>=2.13.0->spacy) (1.26.18)\n",
      "Requirement already satisfied: certifi>=2017.4.17 in /opt/conda/lib/python3.10/site-packages (from requests<3.0.0,>=2.13.0->spacy) (2024.2.2)\n",
      "Collecting blis<0.8.0,>=0.7.8 (from thinc<8.3.0,>=8.2.2->spacy)\n",
      "  Downloading blis-0.7.11-cp310-cp310-manylinux_2_17_x86_64.manylinux2014_x86_64.whl.metadata (7.4 kB)\n",
      "Collecting confection<1.0.0,>=0.0.1 (from thinc<8.3.0,>=8.2.2->spacy)\n",
      "  Downloading confection-0.1.4-py3-none-any.whl.metadata (19 kB)\n",
      "Requirement already satisfied: click<9.0.0,>=7.1.1 in /opt/conda/lib/python3.10/site-packages (from typer<0.10.0,>=0.3.0->spacy) (8.1.7)\n",
      "Collecting cloudpathlib<0.17.0,>=0.7.0 (from weasel<0.4.0,>=0.1.0->spacy)\n",
      "  Downloading cloudpathlib-0.16.0-py3-none-any.whl.metadata (14 kB)\n",
      "Requirement already satisfied: MarkupSafe>=2.0 in /opt/conda/lib/python3.10/site-packages (from jinja2->spacy) (2.1.5)\n",
      "Downloading spacy-3.7.4-cp310-cp310-manylinux_2_17_x86_64.manylinux2014_x86_64.whl (6.6 MB)\n",
      "\u001b[2K   \u001b[90m━━━━━━━━━━━━━━━━━━━━━━━━━━━━━━━━━━━━━━━━\u001b[0m \u001b[32m6.6/6.6 MB\u001b[0m \u001b[31m47.7 MB/s\u001b[0m eta \u001b[36m0:00:00\u001b[0m00:01\u001b[0m00:01\u001b[0m\n",
      "\u001b[?25hDownloading catalogue-2.0.10-py3-none-any.whl (17 kB)\n",
      "Downloading cymem-2.0.8-cp310-cp310-manylinux_2_17_x86_64.manylinux2014_x86_64.whl (46 kB)\n",
      "\u001b[2K   \u001b[90m━━━━━━━━━━━━━━━━━━━━━━━━━━━━━━━━━━━━━━━━\u001b[0m \u001b[32m46.1/46.1 kB\u001b[0m \u001b[31m4.4 MB/s\u001b[0m eta \u001b[36m0:00:00\u001b[0m\n",
      "\u001b[?25hDownloading langcodes-3.3.0-py3-none-any.whl (181 kB)\n",
      "\u001b[2K   \u001b[90m━━━━━━━━━━━━━━━━━━━━━━━━━━━━━━━━━━━━━━━━\u001b[0m \u001b[32m181.6/181.6 kB\u001b[0m \u001b[31m15.6 MB/s\u001b[0m eta \u001b[36m0:00:00\u001b[0m\n",
      "\u001b[?25hDownloading murmurhash-1.0.10-cp310-cp310-manylinux_2_5_x86_64.manylinux1_x86_64.manylinux_2_17_x86_64.manylinux2014_x86_64.whl (29 kB)\n",
      "Downloading preshed-3.0.9-cp310-cp310-manylinux_2_5_x86_64.manylinux1_x86_64.manylinux_2_17_x86_64.manylinux2014_x86_64.whl (156 kB)\n",
      "\u001b[2K   \u001b[90m━━━━━━━━━━━━━━━━━━━━━━━━━━━━━━━━━━━━━━━━\u001b[0m \u001b[32m156.9/156.9 kB\u001b[0m \u001b[31m13.5 MB/s\u001b[0m eta \u001b[36m0:00:00\u001b[0m\n",
      "\u001b[?25hDownloading spacy_legacy-3.0.12-py2.py3-none-any.whl (29 kB)\n",
      "Downloading spacy_loggers-1.0.5-py3-none-any.whl (22 kB)\n",
      "Downloading srsly-2.4.8-cp310-cp310-manylinux_2_17_x86_64.manylinux2014_x86_64.whl (493 kB)\n",
      "\u001b[2K   \u001b[90m━━━━━━━━━━━━━━━━━━━━━━━━━━━━━━━━━━━━━━━━\u001b[0m \u001b[32m493.0/493.0 kB\u001b[0m \u001b[31m34.2 MB/s\u001b[0m eta \u001b[36m0:00:00\u001b[0m\n",
      "\u001b[?25hDownloading thinc-8.2.3-cp310-cp310-manylinux_2_17_x86_64.manylinux2014_x86_64.whl (922 kB)\n",
      "\u001b[2K   \u001b[90m━━━━━━━━━━━━━━━━━━━━━━━━━━━━━━━━━━━━━━━━\u001b[0m \u001b[32m922.3/922.3 kB\u001b[0m \u001b[31m32.2 MB/s\u001b[0m eta \u001b[36m0:00:00\u001b[0m\n",
      "\u001b[?25hDownloading wasabi-1.1.2-py3-none-any.whl (27 kB)\n",
      "Downloading weasel-0.3.4-py3-none-any.whl (50 kB)\n",
      "\u001b[2K   \u001b[90m━━━━━━━━━━━━━━━━━━━━━━━━━━━━━━━━━━━━━━━━\u001b[0m \u001b[32m50.1/50.1 kB\u001b[0m \u001b[31m4.5 MB/s\u001b[0m eta \u001b[36m0:00:00\u001b[0m\n",
      "\u001b[?25hDownloading blis-0.7.11-cp310-cp310-manylinux_2_17_x86_64.manylinux2014_x86_64.whl (10.2 MB)\n",
      "\u001b[2K   \u001b[90m━━━━━━━━━━━━━━━━━━━━━━━━━━━━━━━━━━━━━━━━\u001b[0m \u001b[32m10.2/10.2 MB\u001b[0m \u001b[31m67.5 MB/s\u001b[0m eta \u001b[36m0:00:00\u001b[0m00:01\u001b[0m0:01\u001b[0mm\n",
      "\u001b[?25hDownloading cloudpathlib-0.16.0-py3-none-any.whl (45 kB)\n",
      "\u001b[2K   \u001b[90m━━━━━━━━━━━━━━━━━━━━━━━━━━━━━━━━━━━━━━━━\u001b[0m \u001b[32m45.0/45.0 kB\u001b[0m \u001b[31m4.3 MB/s\u001b[0m eta \u001b[36m0:00:00\u001b[0m\n",
      "\u001b[?25hDownloading confection-0.1.4-py3-none-any.whl (35 kB)\n",
      "Installing collected packages: cymem, wasabi, spacy-loggers, spacy-legacy, murmurhash, langcodes, cloudpathlib, catalogue, blis, srsly, preshed, confection, weasel, thinc, spacy\n",
      "Successfully installed blis-0.7.11 catalogue-2.0.10 cloudpathlib-0.16.0 confection-0.1.4 cymem-2.0.8 langcodes-3.3.0 murmurhash-1.0.10 preshed-3.0.9 spacy-3.7.4 spacy-legacy-3.0.12 spacy-loggers-1.0.5 srsly-2.4.8 thinc-8.2.3 wasabi-1.1.2 weasel-0.3.4\n",
      "Note: you may need to restart the kernel to use updated packages.\n"
     ]
    }
   ],
   "source": [
    "pip install spacy"
   ]
  },
  {
   "cell_type": "code",
   "execution_count": 25,
   "id": "5ac3b73c-d172-4365-9b82-873f42364d19",
   "metadata": {
    "tags": []
   },
   "outputs": [
    {
     "name": "stdout",
     "output_type": "stream",
     "text": [
      "Collecting en-core-web-sm==3.7.1\n",
      "  Downloading https://github.com/explosion/spacy-models/releases/download/en_core_web_sm-3.7.1/en_core_web_sm-3.7.1-py3-none-any.whl (12.8 MB)\n",
      "\u001b[2K     \u001b[90m━━━━━━━━━━━━━━━━━━━━━━━━━━━━━━━━━━━━━━━━\u001b[0m \u001b[32m12.8/12.8 MB\u001b[0m \u001b[31m72.7 MB/s\u001b[0m eta \u001b[36m0:00:00\u001b[0m00:01\u001b[0m0:01\u001b[0m\n",
      "\u001b[?25hRequirement already satisfied: spacy<3.8.0,>=3.7.2 in /opt/conda/lib/python3.10/site-packages (from en-core-web-sm==3.7.1) (3.7.4)\n",
      "Requirement already satisfied: spacy-legacy<3.1.0,>=3.0.11 in /opt/conda/lib/python3.10/site-packages (from spacy<3.8.0,>=3.7.2->en-core-web-sm==3.7.1) (3.0.12)\n",
      "Requirement already satisfied: spacy-loggers<2.0.0,>=1.0.0 in /opt/conda/lib/python3.10/site-packages (from spacy<3.8.0,>=3.7.2->en-core-web-sm==3.7.1) (1.0.5)\n",
      "Requirement already satisfied: murmurhash<1.1.0,>=0.28.0 in /opt/conda/lib/python3.10/site-packages (from spacy<3.8.0,>=3.7.2->en-core-web-sm==3.7.1) (1.0.10)\n",
      "Requirement already satisfied: cymem<2.1.0,>=2.0.2 in /opt/conda/lib/python3.10/site-packages (from spacy<3.8.0,>=3.7.2->en-core-web-sm==3.7.1) (2.0.8)\n",
      "Requirement already satisfied: preshed<3.1.0,>=3.0.2 in /opt/conda/lib/python3.10/site-packages (from spacy<3.8.0,>=3.7.2->en-core-web-sm==3.7.1) (3.0.9)\n",
      "Requirement already satisfied: thinc<8.3.0,>=8.2.2 in /opt/conda/lib/python3.10/site-packages (from spacy<3.8.0,>=3.7.2->en-core-web-sm==3.7.1) (8.2.3)\n",
      "Requirement already satisfied: wasabi<1.2.0,>=0.9.1 in /opt/conda/lib/python3.10/site-packages (from spacy<3.8.0,>=3.7.2->en-core-web-sm==3.7.1) (1.1.2)\n",
      "Requirement already satisfied: srsly<3.0.0,>=2.4.3 in /opt/conda/lib/python3.10/site-packages (from spacy<3.8.0,>=3.7.2->en-core-web-sm==3.7.1) (2.4.8)\n",
      "Requirement already satisfied: catalogue<2.1.0,>=2.0.6 in /opt/conda/lib/python3.10/site-packages (from spacy<3.8.0,>=3.7.2->en-core-web-sm==3.7.1) (2.0.10)\n",
      "Requirement already satisfied: weasel<0.4.0,>=0.1.0 in /opt/conda/lib/python3.10/site-packages (from spacy<3.8.0,>=3.7.2->en-core-web-sm==3.7.1) (0.3.4)\n",
      "Requirement already satisfied: typer<0.10.0,>=0.3.0 in /opt/conda/lib/python3.10/site-packages (from spacy<3.8.0,>=3.7.2->en-core-web-sm==3.7.1) (0.9.0)\n",
      "Requirement already satisfied: smart-open<7.0.0,>=5.2.1 in /opt/conda/lib/python3.10/site-packages (from spacy<3.8.0,>=3.7.2->en-core-web-sm==3.7.1) (6.4.0)\n",
      "Requirement already satisfied: tqdm<5.0.0,>=4.38.0 in /opt/conda/lib/python3.10/site-packages (from spacy<3.8.0,>=3.7.2->en-core-web-sm==3.7.1) (4.66.2)\n",
      "Requirement already satisfied: requests<3.0.0,>=2.13.0 in /opt/conda/lib/python3.10/site-packages (from spacy<3.8.0,>=3.7.2->en-core-web-sm==3.7.1) (2.31.0)\n",
      "Requirement already satisfied: pydantic!=1.8,!=1.8.1,<3.0.0,>=1.7.4 in /opt/conda/lib/python3.10/site-packages (from spacy<3.8.0,>=3.7.2->en-core-web-sm==3.7.1) (2.6.1)\n",
      "Requirement already satisfied: jinja2 in /opt/conda/lib/python3.10/site-packages (from spacy<3.8.0,>=3.7.2->en-core-web-sm==3.7.1) (3.1.3)\n",
      "Requirement already satisfied: setuptools in /opt/conda/lib/python3.10/site-packages (from spacy<3.8.0,>=3.7.2->en-core-web-sm==3.7.1) (69.0.3)\n",
      "Requirement already satisfied: packaging>=20.0 in /opt/conda/lib/python3.10/site-packages (from spacy<3.8.0,>=3.7.2->en-core-web-sm==3.7.1) (23.2)\n",
      "Requirement already satisfied: langcodes<4.0.0,>=3.2.0 in /opt/conda/lib/python3.10/site-packages (from spacy<3.8.0,>=3.7.2->en-core-web-sm==3.7.1) (3.3.0)\n",
      "Requirement already satisfied: numpy>=1.19.0 in /opt/conda/lib/python3.10/site-packages (from spacy<3.8.0,>=3.7.2->en-core-web-sm==3.7.1) (1.25.2)\n",
      "Requirement already satisfied: annotated-types>=0.4.0 in /opt/conda/lib/python3.10/site-packages (from pydantic!=1.8,!=1.8.1,<3.0.0,>=1.7.4->spacy<3.8.0,>=3.7.2->en-core-web-sm==3.7.1) (0.6.0)\n",
      "Requirement already satisfied: pydantic-core==2.16.2 in /opt/conda/lib/python3.10/site-packages (from pydantic!=1.8,!=1.8.1,<3.0.0,>=1.7.4->spacy<3.8.0,>=3.7.2->en-core-web-sm==3.7.1) (2.16.2)\n",
      "Requirement already satisfied: typing-extensions>=4.6.1 in /opt/conda/lib/python3.10/site-packages (from pydantic!=1.8,!=1.8.1,<3.0.0,>=1.7.4->spacy<3.8.0,>=3.7.2->en-core-web-sm==3.7.1) (4.9.0)\n",
      "Requirement already satisfied: charset-normalizer<4,>=2 in /opt/conda/lib/python3.10/site-packages (from requests<3.0.0,>=2.13.0->spacy<3.8.0,>=3.7.2->en-core-web-sm==3.7.1) (3.3.2)\n",
      "Requirement already satisfied: idna<4,>=2.5 in /opt/conda/lib/python3.10/site-packages (from requests<3.0.0,>=2.13.0->spacy<3.8.0,>=3.7.2->en-core-web-sm==3.7.1) (3.6)\n",
      "Requirement already satisfied: urllib3<3,>=1.21.1 in /opt/conda/lib/python3.10/site-packages (from requests<3.0.0,>=2.13.0->spacy<3.8.0,>=3.7.2->en-core-web-sm==3.7.1) (1.26.18)\n",
      "Requirement already satisfied: certifi>=2017.4.17 in /opt/conda/lib/python3.10/site-packages (from requests<3.0.0,>=2.13.0->spacy<3.8.0,>=3.7.2->en-core-web-sm==3.7.1) (2024.2.2)\n",
      "Requirement already satisfied: blis<0.8.0,>=0.7.8 in /opt/conda/lib/python3.10/site-packages (from thinc<8.3.0,>=8.2.2->spacy<3.8.0,>=3.7.2->en-core-web-sm==3.7.1) (0.7.11)\n",
      "Requirement already satisfied: confection<1.0.0,>=0.0.1 in /opt/conda/lib/python3.10/site-packages (from thinc<8.3.0,>=8.2.2->spacy<3.8.0,>=3.7.2->en-core-web-sm==3.7.1) (0.1.4)\n",
      "Requirement already satisfied: click<9.0.0,>=7.1.1 in /opt/conda/lib/python3.10/site-packages (from typer<0.10.0,>=0.3.0->spacy<3.8.0,>=3.7.2->en-core-web-sm==3.7.1) (8.1.7)\n",
      "Requirement already satisfied: cloudpathlib<0.17.0,>=0.7.0 in /opt/conda/lib/python3.10/site-packages (from weasel<0.4.0,>=0.1.0->spacy<3.8.0,>=3.7.2->en-core-web-sm==3.7.1) (0.16.0)\n",
      "Requirement already satisfied: MarkupSafe>=2.0 in /opt/conda/lib/python3.10/site-packages (from jinja2->spacy<3.8.0,>=3.7.2->en-core-web-sm==3.7.1) (2.1.5)\n",
      "Installing collected packages: en-core-web-sm\n",
      "Successfully installed en-core-web-sm-3.7.1\n",
      "\u001b[38;5;2m✔ Download and installation successful\u001b[0m\n",
      "You can now load the package via spacy.load('en_core_web_sm')\n"
     ]
    }
   ],
   "source": [
    "!python -m spacy download en_core_web_sm"
   ]
  },
  {
   "cell_type": "code",
   "execution_count": 26,
   "id": "65a30217-536a-4a18-acea-728f5071b33d",
   "metadata": {
    "tags": []
   },
   "outputs": [],
   "source": [
    "import spacy\n",
    "nlp = spacy.load(\"en_core_web_sm\")\n",
    "\n",
    "def get_tokens(doc):\n",
    "    doc_tokenized = nlp(doc)\n",
    "    tokens = [token.text for token in doc_tokenized]\n",
    "    return tokens"
   ]
  },
  {
   "cell_type": "code",
   "execution_count": 66,
   "id": "39ab0ca3-aef5-4484-8abd-e763e099f712",
   "metadata": {
    "tags": []
   },
   "outputs": [],
   "source": [
    "sample_df['spacy_tokens'] = sample_df['spacy_review'].apply(get_tokens)"
   ]
  },
  {
   "cell_type": "code",
   "execution_count": 67,
   "id": "0ba94331-c52a-4d28-b3e9-ad5b6cac50ea",
   "metadata": {
    "tags": []
   },
   "outputs": [
    {
     "data": {
      "text/html": [
       "<div>\n",
       "<style scoped>\n",
       "    .dataframe tbody tr th:only-of-type {\n",
       "        vertical-align: middle;\n",
       "    }\n",
       "\n",
       "    .dataframe tbody tr th {\n",
       "        vertical-align: top;\n",
       "    }\n",
       "\n",
       "    .dataframe thead th {\n",
       "        text-align: right;\n",
       "    }\n",
       "</style>\n",
       "<table border=\"1\" class=\"dataframe\">\n",
       "  <thead>\n",
       "    <tr style=\"text-align: right;\">\n",
       "      <th></th>\n",
       "      <th>level_0</th>\n",
       "      <th>index</th>\n",
       "      <th>drugName</th>\n",
       "      <th>condition</th>\n",
       "      <th>review</th>\n",
       "      <th>rating</th>\n",
       "      <th>date</th>\n",
       "      <th>usefulCount</th>\n",
       "      <th>processed_review</th>\n",
       "      <th>sentiment</th>\n",
       "      <th>spacy_review</th>\n",
       "      <th>spacy_tokens</th>\n",
       "    </tr>\n",
       "  </thead>\n",
       "  <tbody>\n",
       "    <tr>\n",
       "      <th>0</th>\n",
       "      <td>147774</td>\n",
       "      <td>160342</td>\n",
       "      <td>Buspirone</td>\n",
       "      <td>Anxiety</td>\n",
       "      <td>\"Have had some anxiety for the second time in ...</td>\n",
       "      <td>1.0</td>\n",
       "      <td>October 2, 2016</td>\n",
       "      <td>6</td>\n",
       "      <td>anxieti second time life  first time well xan...</td>\n",
       "      <td>negative</td>\n",
       "      <td>anxiety second time life  first time well xan...</td>\n",
       "      <td>[ , anxiety, second, time, life,  , first, tim...</td>\n",
       "    </tr>\n",
       "    <tr>\n",
       "      <th>1</th>\n",
       "      <td>90307</td>\n",
       "      <td>97984</td>\n",
       "      <td>Nexplanon</td>\n",
       "      <td>Birth Control</td>\n",
       "      <td>\"My implant was inserted in July 2014 and for ...</td>\n",
       "      <td>5.0</td>\n",
       "      <td>September 10, 2015</td>\n",
       "      <td>2</td>\n",
       "      <td>implant insert juli 2014 first six month  spo...</td>\n",
       "      <td>neutral</td>\n",
       "      <td>implant inserted july 2014 first six months  ...</td>\n",
       "      <td>[ , implant, inserted, july, 2014, first, six,...</td>\n",
       "    </tr>\n",
       "    <tr>\n",
       "      <th>2</th>\n",
       "      <td>193758</td>\n",
       "      <td>210384</td>\n",
       "      <td>Linzess</td>\n",
       "      <td>Constipation</td>\n",
       "      <td>\"A nurse practitioner gave me samples. I took ...</td>\n",
       "      <td>1.0</td>\n",
       "      <td>July 13, 2014</td>\n",
       "      <td>54</td>\n",
       "      <td>nurs practition gave sampl  took one pill  cl...</td>\n",
       "      <td>negative</td>\n",
       "      <td>nurse practitioner gave samples  took one pil...</td>\n",
       "      <td>[ , nurse, practitioner, gave, samples,  , too...</td>\n",
       "    </tr>\n",
       "    <tr>\n",
       "      <th>3</th>\n",
       "      <td>112907</td>\n",
       "      <td>122447</td>\n",
       "      <td>Linaclotide</td>\n",
       "      <td>Constipation, Chronic</td>\n",
       "      <td>\"I&amp;#039;m a 45 yr old woman who has had IBS wi...</td>\n",
       "      <td>9.0</td>\n",
       "      <td>July 2, 2017</td>\n",
       "      <td>13</td>\n",
       "      <td>45 yr old woman ib chronic constip year   de...</td>\n",
       "      <td>positive</td>\n",
       "      <td>45 yr old woman ibs chronic constipation yea...</td>\n",
       "      <td>[  , 45, yr, old, woman, ibs, chronic, constip...</td>\n",
       "    </tr>\n",
       "    <tr>\n",
       "      <th>4</th>\n",
       "      <td>89225</td>\n",
       "      <td>96812</td>\n",
       "      <td>Ambien</td>\n",
       "      <td>10&lt;/span&gt; users found this comment helpful.</td>\n",
       "      <td>\"Yes it works real good im addicted to it. I h...</td>\n",
       "      <td>9.0</td>\n",
       "      <td>November 20, 2016</td>\n",
       "      <td>10</td>\n",
       "      <td>ye work real good im addict  take last 4 year...</td>\n",
       "      <td>positive</td>\n",
       "      <td>yes works real good im addicted  taking last ...</td>\n",
       "      <td>[ , yes, works, real, good, i, m, addicted,  ,...</td>\n",
       "    </tr>\n",
       "  </tbody>\n",
       "</table>\n",
       "</div>"
      ],
      "text/plain": [
       "   level_0   index     drugName                                    condition  \\\n",
       "0   147774  160342    Buspirone                                      Anxiety   \n",
       "1    90307   97984    Nexplanon                                Birth Control   \n",
       "2   193758  210384      Linzess                                 Constipation   \n",
       "3   112907  122447  Linaclotide                        Constipation, Chronic   \n",
       "4    89225   96812       Ambien  10</span> users found this comment helpful.   \n",
       "\n",
       "                                              review  rating  \\\n",
       "0  \"Have had some anxiety for the second time in ...     1.0   \n",
       "1  \"My implant was inserted in July 2014 and for ...     5.0   \n",
       "2  \"A nurse practitioner gave me samples. I took ...     1.0   \n",
       "3  \"I&#039;m a 45 yr old woman who has had IBS wi...     9.0   \n",
       "4  \"Yes it works real good im addicted to it. I h...     9.0   \n",
       "\n",
       "                 date  usefulCount  \\\n",
       "0     October 2, 2016            6   \n",
       "1  September 10, 2015            2   \n",
       "2       July 13, 2014           54   \n",
       "3        July 2, 2017           13   \n",
       "4   November 20, 2016           10   \n",
       "\n",
       "                                    processed_review sentiment  \\\n",
       "0   anxieti second time life  first time well xan...  negative   \n",
       "1   implant insert juli 2014 first six month  spo...   neutral   \n",
       "2   nurs practition gave sampl  took one pill  cl...  negative   \n",
       "3    45 yr old woman ib chronic constip year   de...  positive   \n",
       "4   ye work real good im addict  take last 4 year...  positive   \n",
       "\n",
       "                                        spacy_review  \\\n",
       "0   anxiety second time life  first time well xan...   \n",
       "1   implant inserted july 2014 first six months  ...   \n",
       "2   nurse practitioner gave samples  took one pil...   \n",
       "3    45 yr old woman ibs chronic constipation yea...   \n",
       "4   yes works real good im addicted  taking last ...   \n",
       "\n",
       "                                        spacy_tokens  \n",
       "0  [ , anxiety, second, time, life,  , first, tim...  \n",
       "1  [ , implant, inserted, july, 2014, first, six,...  \n",
       "2  [ , nurse, practitioner, gave, samples,  , too...  \n",
       "3  [  , 45, yr, old, woman, ibs, chronic, constip...  \n",
       "4  [ , yes, works, real, good, i, m, addicted,  ,...  "
      ]
     },
     "execution_count": 67,
     "metadata": {},
     "output_type": "execute_result"
    }
   ],
   "source": [
    "sample_df.head()"
   ]
  },
  {
   "cell_type": "code",
   "execution_count": 70,
   "id": "6434130d-fa98-4249-a6ea-11538e293166",
   "metadata": {
    "tags": []
   },
   "outputs": [
    {
     "data": {
      "text/plain": [
       "0        [ , anxiety, second, time, life,  , first, tim...\n",
       "1        [ , implant, inserted, july, 2014, first, six,...\n",
       "2        [ , nurse, practitioner, gave, samples,  , too...\n",
       "3        [  , 45, yr, old, woman, ibs, chronic, constip...\n",
       "4        [ , yes, works, real, good, i, m, addicted,  ,...\n",
       "                               ...                        \n",
       "49995    [ , condom, broke, time, noticed, already, lat...\n",
       "49996    [  , throws, bronchitis, week,  , started, thr...\n",
       "49997    [ , yeast, infections,  , moodiness,  , depres...\n",
       "49998    [ , 11, year, old, prescribed, gabapentin, chr...\n",
       "49999    [ , finished, first, pack,  , many, side, effe...\n",
       "Name: spacy_tokens, Length: 50000, dtype: object"
      ]
     },
     "execution_count": 70,
     "metadata": {},
     "output_type": "execute_result"
    }
   ],
   "source": [
    "sample_df['spacy_tokens']"
   ]
  },
  {
   "cell_type": "code",
   "execution_count": 69,
   "id": "678d138c-b266-4348-957d-bd01ef205a47",
   "metadata": {
    "tags": []
   },
   "outputs": [],
   "source": [
    "sample_df.to_csv('spacy_tokens.tsv', index=False, sep=\"\\t\")"
   ]
  },
  {
   "cell_type": "code",
   "execution_count": 31,
   "id": "f026dec9-0a61-46ec-938c-c22b847bb01b",
   "metadata": {
    "tags": []
   },
   "outputs": [],
   "source": [
    "def get_word_embedding(word, model):\n",
    "    if word in model.key_to_index:\n",
    "        return model[word]\n",
    "    else:\n",
    "        return np.zeros(model.vector_size)"
   ]
  },
  {
   "cell_type": "code",
   "execution_count": 33,
   "id": "980ba391-d522-4dc3-9f71-96f3eaca1072",
   "metadata": {
    "tags": []
   },
   "outputs": [],
   "source": [
    "import numpy as np"
   ]
  },
  {
   "cell_type": "code",
   "execution_count": 71,
   "id": "035fa4b5-2d71-4b4e-ad2f-640ac136c526",
   "metadata": {
    "tags": []
   },
   "outputs": [],
   "source": [
    "embeddings = []\n",
    "for review in sample_df['spacy_tokens']:\n",
    "    sample_embeddings = [get_word_embedding(word, glove_model) for word in review]\n",
    "    sample_embedding = np.mean(sample_embeddings if len(sample_embeddings) >0 else [np.zeros(glove_model.vector_size)], axis=0)\n",
    "    embeddings = embeddings + [sample_embedding]"
   ]
  },
  {
   "cell_type": "code",
   "execution_count": 72,
   "id": "4707cacb-687c-4d35-9a43-1b3989f75e44",
   "metadata": {
    "tags": []
   },
   "outputs": [],
   "source": [
    "embeddings = np.array(embeddings)"
   ]
  },
  {
   "cell_type": "code",
   "execution_count": 73,
   "id": "eb96d328-281b-47b0-b806-2413ab09f2f6",
   "metadata": {
    "tags": []
   },
   "outputs": [
    {
     "data": {
      "text/plain": [
       "array([[ 0.17877178,  0.02714208,  0.08069743, ..., -0.17873705,\n",
       "         0.03754115,  0.02034716],\n",
       "       [ 0.261968  ,  0.01360156,  0.02767877, ...,  0.04587155,\n",
       "        -0.10338114, -0.05213832],\n",
       "       [ 0.23258781, -0.0251385 , -0.10563424, ..., -0.16069587,\n",
       "         0.0256585 ,  0.07522474],\n",
       "       ...,\n",
       "       [ 0.3187697 , -0.08212033, -0.13812337, ..., -0.01888405,\n",
       "        -0.14964955,  0.02738614],\n",
       "       [ 0.48465952, -0.09057189, -0.10579762, ...,  0.25435418,\n",
       "        -0.11928698,  0.15139772],\n",
       "       [ 0.1367335 ,  0.01299641, -0.1279523 , ...,  0.01188866,\n",
       "         0.03238668,  0.14226362]])"
      ]
     },
     "execution_count": 73,
     "metadata": {},
     "output_type": "execute_result"
    }
   ],
   "source": [
    "embeddings"
   ]
  },
  {
   "cell_type": "code",
   "execution_count": 74,
   "id": "80bfdefc-ae1c-4065-ad20-cdd1fa79cbd3",
   "metadata": {
    "tags": []
   },
   "outputs": [
    {
     "data": {
      "text/plain": [
       "(50000, 50)"
      ]
     },
     "execution_count": 74,
     "metadata": {},
     "output_type": "execute_result"
    }
   ],
   "source": [
    "embeddings.shape"
   ]
  },
  {
   "cell_type": "code",
   "execution_count": 81,
   "id": "750d4e05-675f-4b66-b052-06f6c7cd686c",
   "metadata": {
    "tags": []
   },
   "outputs": [],
   "source": [
    "np.savetxt(\"GloVe_embeddings_50000.csv\", embeddings, delimiter=\",\", header='',fmt='%f')"
   ]
  },
  {
   "cell_type": "markdown",
   "id": "e0eaf80f-9232-4d59-8c73-b7cfd6fcd05b",
   "metadata": {},
   "source": [
    "### GloVe_300"
   ]
  },
  {
   "cell_type": "code",
   "execution_count": 82,
   "id": "78201b04-2ae8-46cb-bfc3-bc3b51f58a34",
   "metadata": {
    "tags": []
   },
   "outputs": [
    {
     "name": "stdout",
     "output_type": "stream",
     "text": [
      "[==================================================] 100.0% 376.1/376.1MB downloaded\n"
     ]
    }
   ],
   "source": [
    "glove_model_300 = downloader.load(\"glove-wiki-gigaword-300\")"
   ]
  },
  {
   "cell_type": "code",
   "execution_count": 83,
   "id": "a326cca0-16d9-4875-92bb-022e494b763e",
   "metadata": {
    "tags": []
   },
   "outputs": [],
   "source": [
    "embeddings_300 = []\n",
    "for review in sample_df['spacy_tokens']:\n",
    "    sample_embeddings = [get_word_embedding(word, glove_model_300) for word in review]\n",
    "    sample_embedding = np.mean(sample_embeddings if len(sample_embeddings) >0 else [np.zeros(glove_model.vector_size)], axis=0)\n",
    "    embeddings_300 = embeddings_300 + [sample_embedding]"
   ]
  },
  {
   "cell_type": "code",
   "execution_count": 84,
   "id": "407525b6-38c4-464e-9767-872ea83cf788",
   "metadata": {
    "tags": []
   },
   "outputs": [],
   "source": [
    "embeddings_300 = np.array(embeddings_300)"
   ]
  },
  {
   "cell_type": "code",
   "execution_count": 85,
   "id": "537fa6d3-5348-48b8-b394-2f138d104c64",
   "metadata": {
    "tags": []
   },
   "outputs": [
    {
     "data": {
      "text/plain": [
       "array([[-4.06890868e-02,  2.80631225e-02, -1.63758178e-02, ...,\n",
       "        -8.75764357e-02, -1.67611310e-03,  2.39304052e-02],\n",
       "       [-9.62281405e-02,  8.72025088e-02, -6.35394480e-03, ...,\n",
       "        -1.67532509e-01, -1.04482466e-01, -4.53861606e-02],\n",
       "       [-7.09612182e-02,  6.37495305e-02, -4.20494546e-02, ...,\n",
       "        -3.81647385e-02, -8.35460762e-02,  1.13094026e-01],\n",
       "       ...,\n",
       "       [-4.51899660e-02,  1.48588284e-01,  6.34105710e-02, ...,\n",
       "         5.55472936e-05,  6.31569408e-03, -1.02526829e-01],\n",
       "       [-8.21554630e-02,  1.29523789e-01,  9.67955708e-02, ...,\n",
       "        -1.36522825e-01, -7.94999277e-02, -8.72033187e-02],\n",
       "       [ 2.92238167e-02,  7.08149234e-02,  2.13342421e-02, ...,\n",
       "        -3.89718862e-02,  1.66054747e-02, -3.94281536e-02]])"
      ]
     },
     "execution_count": 85,
     "metadata": {},
     "output_type": "execute_result"
    }
   ],
   "source": [
    "embeddings_300"
   ]
  },
  {
   "cell_type": "code",
   "execution_count": 86,
   "id": "ab9daad7-b433-4b77-81b7-d04c4627fba9",
   "metadata": {
    "tags": []
   },
   "outputs": [
    {
     "data": {
      "text/plain": [
       "(50000, 300)"
      ]
     },
     "execution_count": 86,
     "metadata": {},
     "output_type": "execute_result"
    }
   ],
   "source": [
    "embeddings_300.shape"
   ]
  },
  {
   "cell_type": "code",
   "execution_count": 88,
   "id": "507dfc1b-9cb9-4382-a5d3-29bea4ba6dc7",
   "metadata": {
    "tags": []
   },
   "outputs": [],
   "source": [
    "np.savetxt(\"GloVe_embeddings_50000_300.csv\", embeddings_300, delimiter=\",\", header='')"
   ]
  },
  {
   "cell_type": "code",
   "execution_count": null,
   "id": "4763d58e-f016-4288-b32b-9640fb458bbf",
   "metadata": {},
   "outputs": [],
   "source": []
  }
 ],
 "metadata": {
  "environment": {
   "kernel": "python3",
   "name": "common-cpu.m117",
   "type": "gcloud",
   "uri": "us-docker.pkg.dev/deeplearning-platform-release/gcr.io/base-cpu:m117"
  },
  "kernelspec": {
   "display_name": "Python 3",
   "language": "python",
   "name": "python3"
  },
  "language_info": {
   "codemirror_mode": {
    "name": "ipython",
    "version": 3
   },
   "file_extension": ".py",
   "mimetype": "text/x-python",
   "name": "python",
   "nbconvert_exporter": "python",
   "pygments_lexer": "ipython3",
   "version": "3.10.13"
  }
 },
 "nbformat": 4,
 "nbformat_minor": 5
}
