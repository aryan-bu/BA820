{
  "cells": [
    {
      "cell_type": "code",
      "execution_count": 1,
      "metadata": {
        "id": "JEp-d65WzWQu"
      },
      "outputs": [],
      "source": [
        "import pandas as pd\n",
        "data_test = 'https://raw.githubusercontent.com/aryan-bu/BA820/main/drug_reviews_dataset/drugsComTest_raw.tsv'\n",
        "data_train = 'https://raw.githubusercontent.com/aryan-bu/BA820/main/drug_reviews_dataset/drugsComTrain_raw.tsv'\n",
        "\n",
        "df_test = pd.read_csv(data_test, delimiter='\\t')\n",
        "df_train = pd.read_csv(data_train, delimiter='\\t')"
      ]
    },
    {
      "cell_type": "code",
      "execution_count": 2,
      "metadata": {
        "colab": {
          "base_uri": "https://localhost:8080/",
          "height": 206
        },
        "id": "teMFlmfZ-hbl",
        "outputId": "513ec805-3c78-4844-f8ad-9d5d23235057"
      },
      "outputs": [
        {
          "data": {
            "text/html": [
              "<div>\n",
              "<style scoped>\n",
              "    .dataframe tbody tr th:only-of-type {\n",
              "        vertical-align: middle;\n",
              "    }\n",
              "\n",
              "    .dataframe tbody tr th {\n",
              "        vertical-align: top;\n",
              "    }\n",
              "\n",
              "    .dataframe thead th {\n",
              "        text-align: right;\n",
              "    }\n",
              "</style>\n",
              "<table border=\"1\" class=\"dataframe\">\n",
              "  <thead>\n",
              "    <tr style=\"text-align: right;\">\n",
              "      <th></th>\n",
              "      <th>Unnamed: 0</th>\n",
              "      <th>drugName</th>\n",
              "      <th>condition</th>\n",
              "      <th>review</th>\n",
              "      <th>rating</th>\n",
              "      <th>date</th>\n",
              "      <th>usefulCount</th>\n",
              "    </tr>\n",
              "  </thead>\n",
              "  <tbody>\n",
              "    <tr>\n",
              "      <th>0</th>\n",
              "      <td>163740</td>\n",
              "      <td>Mirtazapine</td>\n",
              "      <td>Depression</td>\n",
              "      <td>\"I&amp;#039;ve tried a few antidepressants over th...</td>\n",
              "      <td>10.0</td>\n",
              "      <td>February 28, 2012</td>\n",
              "      <td>22</td>\n",
              "    </tr>\n",
              "    <tr>\n",
              "      <th>1</th>\n",
              "      <td>206473</td>\n",
              "      <td>Mesalamine</td>\n",
              "      <td>Crohn's Disease, Maintenance</td>\n",
              "      <td>\"My son has Crohn&amp;#039;s disease and has done ...</td>\n",
              "      <td>8.0</td>\n",
              "      <td>May 17, 2009</td>\n",
              "      <td>17</td>\n",
              "    </tr>\n",
              "    <tr>\n",
              "      <th>2</th>\n",
              "      <td>159672</td>\n",
              "      <td>Bactrim</td>\n",
              "      <td>Urinary Tract Infection</td>\n",
              "      <td>\"Quick reduction of symptoms\"</td>\n",
              "      <td>9.0</td>\n",
              "      <td>September 29, 2017</td>\n",
              "      <td>3</td>\n",
              "    </tr>\n",
              "    <tr>\n",
              "      <th>3</th>\n",
              "      <td>39293</td>\n",
              "      <td>Contrave</td>\n",
              "      <td>Weight Loss</td>\n",
              "      <td>\"Contrave combines drugs that were used for al...</td>\n",
              "      <td>9.0</td>\n",
              "      <td>March 5, 2017</td>\n",
              "      <td>35</td>\n",
              "    </tr>\n",
              "    <tr>\n",
              "      <th>4</th>\n",
              "      <td>97768</td>\n",
              "      <td>Cyclafem 1 / 35</td>\n",
              "      <td>Birth Control</td>\n",
              "      <td>\"I have been on this birth control for one cyc...</td>\n",
              "      <td>9.0</td>\n",
              "      <td>October 22, 2015</td>\n",
              "      <td>4</td>\n",
              "    </tr>\n",
              "  </tbody>\n",
              "</table>\n",
              "</div>"
            ],
            "text/plain": [
              "   Unnamed: 0         drugName                     condition  \\\n",
              "0      163740      Mirtazapine                    Depression   \n",
              "1      206473       Mesalamine  Crohn's Disease, Maintenance   \n",
              "2      159672          Bactrim       Urinary Tract Infection   \n",
              "3       39293         Contrave                   Weight Loss   \n",
              "4       97768  Cyclafem 1 / 35                 Birth Control   \n",
              "\n",
              "                                              review  rating  \\\n",
              "0  \"I&#039;ve tried a few antidepressants over th...    10.0   \n",
              "1  \"My son has Crohn&#039;s disease and has done ...     8.0   \n",
              "2                      \"Quick reduction of symptoms\"     9.0   \n",
              "3  \"Contrave combines drugs that were used for al...     9.0   \n",
              "4  \"I have been on this birth control for one cyc...     9.0   \n",
              "\n",
              "                 date  usefulCount  \n",
              "0   February 28, 2012           22  \n",
              "1        May 17, 2009           17  \n",
              "2  September 29, 2017            3  \n",
              "3       March 5, 2017           35  \n",
              "4    October 22, 2015            4  "
            ]
          },
          "execution_count": 2,
          "metadata": {},
          "output_type": "execute_result"
        }
      ],
      "source": [
        "df_test.head()"
      ]
    },
    {
      "cell_type": "code",
      "execution_count": 3,
      "metadata": {
        "colab": {
          "base_uri": "https://localhost:8080/",
          "height": 206
        },
        "id": "hCi8FK5y_jgO",
        "outputId": "7bfea0b6-88e8-4558-cbcd-930ca8f48694"
      },
      "outputs": [
        {
          "data": {
            "text/html": [
              "<div>\n",
              "<style scoped>\n",
              "    .dataframe tbody tr th:only-of-type {\n",
              "        vertical-align: middle;\n",
              "    }\n",
              "\n",
              "    .dataframe tbody tr th {\n",
              "        vertical-align: top;\n",
              "    }\n",
              "\n",
              "    .dataframe thead th {\n",
              "        text-align: right;\n",
              "    }\n",
              "</style>\n",
              "<table border=\"1\" class=\"dataframe\">\n",
              "  <thead>\n",
              "    <tr style=\"text-align: right;\">\n",
              "      <th></th>\n",
              "      <th>Unnamed: 0</th>\n",
              "      <th>drugName</th>\n",
              "      <th>condition</th>\n",
              "      <th>review</th>\n",
              "      <th>rating</th>\n",
              "      <th>date</th>\n",
              "      <th>usefulCount</th>\n",
              "    </tr>\n",
              "  </thead>\n",
              "  <tbody>\n",
              "    <tr>\n",
              "      <th>0</th>\n",
              "      <td>206461</td>\n",
              "      <td>Valsartan</td>\n",
              "      <td>Left Ventricular Dysfunction</td>\n",
              "      <td>\"It has no side effect, I take it in combinati...</td>\n",
              "      <td>9.0</td>\n",
              "      <td>May 20, 2012</td>\n",
              "      <td>27</td>\n",
              "    </tr>\n",
              "    <tr>\n",
              "      <th>1</th>\n",
              "      <td>95260</td>\n",
              "      <td>Guanfacine</td>\n",
              "      <td>ADHD</td>\n",
              "      <td>\"My son is halfway through his fourth week of ...</td>\n",
              "      <td>8.0</td>\n",
              "      <td>April 27, 2010</td>\n",
              "      <td>192</td>\n",
              "    </tr>\n",
              "    <tr>\n",
              "      <th>2</th>\n",
              "      <td>92703</td>\n",
              "      <td>Lybrel</td>\n",
              "      <td>Birth Control</td>\n",
              "      <td>\"I used to take another oral contraceptive, wh...</td>\n",
              "      <td>5.0</td>\n",
              "      <td>December 14, 2009</td>\n",
              "      <td>17</td>\n",
              "    </tr>\n",
              "    <tr>\n",
              "      <th>3</th>\n",
              "      <td>138000</td>\n",
              "      <td>Ortho Evra</td>\n",
              "      <td>Birth Control</td>\n",
              "      <td>\"This is my first time using any form of birth...</td>\n",
              "      <td>8.0</td>\n",
              "      <td>November 3, 2015</td>\n",
              "      <td>10</td>\n",
              "    </tr>\n",
              "    <tr>\n",
              "      <th>4</th>\n",
              "      <td>35696</td>\n",
              "      <td>Buprenorphine / naloxone</td>\n",
              "      <td>Opiate Dependence</td>\n",
              "      <td>\"Suboxone has completely turned my life around...</td>\n",
              "      <td>9.0</td>\n",
              "      <td>November 27, 2016</td>\n",
              "      <td>37</td>\n",
              "    </tr>\n",
              "  </tbody>\n",
              "</table>\n",
              "</div>"
            ],
            "text/plain": [
              "   Unnamed: 0                  drugName                     condition  \\\n",
              "0      206461                 Valsartan  Left Ventricular Dysfunction   \n",
              "1       95260                Guanfacine                          ADHD   \n",
              "2       92703                    Lybrel                 Birth Control   \n",
              "3      138000                Ortho Evra                 Birth Control   \n",
              "4       35696  Buprenorphine / naloxone             Opiate Dependence   \n",
              "\n",
              "                                              review  rating  \\\n",
              "0  \"It has no side effect, I take it in combinati...     9.0   \n",
              "1  \"My son is halfway through his fourth week of ...     8.0   \n",
              "2  \"I used to take another oral contraceptive, wh...     5.0   \n",
              "3  \"This is my first time using any form of birth...     8.0   \n",
              "4  \"Suboxone has completely turned my life around...     9.0   \n",
              "\n",
              "                date  usefulCount  \n",
              "0       May 20, 2012           27  \n",
              "1     April 27, 2010          192  \n",
              "2  December 14, 2009           17  \n",
              "3   November 3, 2015           10  \n",
              "4  November 27, 2016           37  "
            ]
          },
          "execution_count": 3,
          "metadata": {},
          "output_type": "execute_result"
        }
      ],
      "source": [
        "df_train.head()"
      ]
    },
    {
      "cell_type": "code",
      "execution_count": 4,
      "metadata": {
        "colab": {
          "base_uri": "https://localhost:8080/"
        },
        "id": "UKzAPHXh_cgB",
        "outputId": "a7939728-1f2b-4bc7-a6e7-176fd7d5079d"
      },
      "outputs": [
        {
          "data": {
            "text/plain": [
              "(53766, 7)"
            ]
          },
          "execution_count": 4,
          "metadata": {},
          "output_type": "execute_result"
        }
      ],
      "source": [
        "df_test.shape"
      ]
    },
    {
      "cell_type": "code",
      "execution_count": 5,
      "metadata": {
        "colab": {
          "base_uri": "https://localhost:8080/"
        },
        "id": "0yud-tGz_e9i",
        "outputId": "2f22deed-6853-40bc-d55d-8952df1ef6c5"
      },
      "outputs": [
        {
          "data": {
            "text/plain": [
              "(161297, 7)"
            ]
          },
          "execution_count": 5,
          "metadata": {},
          "output_type": "execute_result"
        }
      ],
      "source": [
        "df_train.shape"
      ]
    },
    {
      "cell_type": "code",
      "execution_count": 6,
      "metadata": {
        "colab": {
          "base_uri": "https://localhost:8080/"
        },
        "id": "CcqLduok-7AN",
        "outputId": "3a11087b-7522-43f2-da21-38377593fe67"
      },
      "outputs": [
        {
          "data": {
            "text/plain": [
              "(215063, 7)"
            ]
          },
          "execution_count": 6,
          "metadata": {},
          "output_type": "execute_result"
        }
      ],
      "source": [
        "df = pd.concat([df_test, df_train])\n",
        "df.shape"
      ]
    },
    {
      "cell_type": "code",
      "execution_count": 7,
      "metadata": {
        "colab": {
          "base_uri": "https://localhost:8080/",
          "height": 206
        },
        "id": "Z13zjpac_WCO",
        "outputId": "d16c18ff-3c3c-42d4-aaae-df1dbbe7a24d"
      },
      "outputs": [
        {
          "data": {
            "text/html": [
              "<div>\n",
              "<style scoped>\n",
              "    .dataframe tbody tr th:only-of-type {\n",
              "        vertical-align: middle;\n",
              "    }\n",
              "\n",
              "    .dataframe tbody tr th {\n",
              "        vertical-align: top;\n",
              "    }\n",
              "\n",
              "    .dataframe thead th {\n",
              "        text-align: right;\n",
              "    }\n",
              "</style>\n",
              "<table border=\"1\" class=\"dataframe\">\n",
              "  <thead>\n",
              "    <tr style=\"text-align: right;\">\n",
              "      <th></th>\n",
              "      <th>index</th>\n",
              "      <th>drugName</th>\n",
              "      <th>condition</th>\n",
              "      <th>review</th>\n",
              "      <th>rating</th>\n",
              "      <th>date</th>\n",
              "      <th>usefulCount</th>\n",
              "    </tr>\n",
              "  </thead>\n",
              "  <tbody>\n",
              "    <tr>\n",
              "      <th>47805</th>\n",
              "      <td>0</td>\n",
              "      <td>Medroxyprogesterone</td>\n",
              "      <td>Abnormal Uterine Bleeding</td>\n",
              "      <td>\"Been on the depo injection since January 2015...</td>\n",
              "      <td>3.0</td>\n",
              "      <td>October 28, 2015</td>\n",
              "      <td>4</td>\n",
              "    </tr>\n",
              "    <tr>\n",
              "      <th>93135</th>\n",
              "      <td>2</td>\n",
              "      <td>Medroxyprogesterone</td>\n",
              "      <td>Amenorrhea</td>\n",
              "      <td>\"I&amp;#039;m 21 years old and recently found out ...</td>\n",
              "      <td>10.0</td>\n",
              "      <td>October 27, 2015</td>\n",
              "      <td>11</td>\n",
              "    </tr>\n",
              "    <tr>\n",
              "      <th>143331</th>\n",
              "      <td>3</td>\n",
              "      <td>Medroxyprogesterone</td>\n",
              "      <td>Abnormal Uterine Bleeding</td>\n",
              "      <td>\"I have been on the shot 11 years and until a ...</td>\n",
              "      <td>8.0</td>\n",
              "      <td>October 27, 2015</td>\n",
              "      <td>7</td>\n",
              "    </tr>\n",
              "    <tr>\n",
              "      <th>57030</th>\n",
              "      <td>4</td>\n",
              "      <td>Medroxyprogesterone</td>\n",
              "      <td>Birth Control</td>\n",
              "      <td>\"Ive had four shots at this point. I was on bi...</td>\n",
              "      <td>9.0</td>\n",
              "      <td>October 26, 2015</td>\n",
              "      <td>12</td>\n",
              "    </tr>\n",
              "    <tr>\n",
              "      <th>106347</th>\n",
              "      <td>5</td>\n",
              "      <td>Medroxyprogesterone</td>\n",
              "      <td>Abnormal Uterine Bleeding</td>\n",
              "      <td>\"I had a total of 3 shots. I got my first one ...</td>\n",
              "      <td>1.0</td>\n",
              "      <td>October 25, 2015</td>\n",
              "      <td>4</td>\n",
              "    </tr>\n",
              "  </tbody>\n",
              "</table>\n",
              "</div>"
            ],
            "text/plain": [
              "        index             drugName                  condition  \\\n",
              "47805       0  Medroxyprogesterone  Abnormal Uterine Bleeding   \n",
              "93135       2  Medroxyprogesterone                 Amenorrhea   \n",
              "143331      3  Medroxyprogesterone  Abnormal Uterine Bleeding   \n",
              "57030       4  Medroxyprogesterone              Birth Control   \n",
              "106347      5  Medroxyprogesterone  Abnormal Uterine Bleeding   \n",
              "\n",
              "                                                   review  rating  \\\n",
              "47805   \"Been on the depo injection since January 2015...     3.0   \n",
              "93135   \"I&#039;m 21 years old and recently found out ...    10.0   \n",
              "143331  \"I have been on the shot 11 years and until a ...     8.0   \n",
              "57030   \"Ive had four shots at this point. I was on bi...     9.0   \n",
              "106347  \"I had a total of 3 shots. I got my first one ...     1.0   \n",
              "\n",
              "                    date  usefulCount  \n",
              "47805   October 28, 2015            4  \n",
              "93135   October 27, 2015           11  \n",
              "143331  October 27, 2015            7  \n",
              "57030   October 26, 2015           12  \n",
              "106347  October 25, 2015            4  "
            ]
          },
          "execution_count": 7,
          "metadata": {},
          "output_type": "execute_result"
        }
      ],
      "source": [
        "df = df.rename(columns={'Unnamed: 0': 'index'})\n",
        "df = df.sort_values(by='index', ascending=True)\n",
        "df.head()"
      ]
    },
    {
      "cell_type": "markdown",
      "metadata": {},
      "source": [
        "In place of the ' symbol, we have some unwanted characters. We can remove them for our analysis. "
      ]
    },
    {
      "cell_type": "code",
      "execution_count": 12,
      "metadata": {},
      "outputs": [
        {
          "data": {
            "text/html": [
              "<div>\n",
              "<style scoped>\n",
              "    .dataframe tbody tr th:only-of-type {\n",
              "        vertical-align: middle;\n",
              "    }\n",
              "\n",
              "    .dataframe tbody tr th {\n",
              "        vertical-align: top;\n",
              "    }\n",
              "\n",
              "    .dataframe thead th {\n",
              "        text-align: right;\n",
              "    }\n",
              "</style>\n",
              "<table border=\"1\" class=\"dataframe\">\n",
              "  <thead>\n",
              "    <tr style=\"text-align: right;\">\n",
              "      <th></th>\n",
              "      <th>index</th>\n",
              "      <th>drugName</th>\n",
              "      <th>condition</th>\n",
              "      <th>review</th>\n",
              "      <th>rating</th>\n",
              "      <th>date</th>\n",
              "      <th>usefulCount</th>\n",
              "    </tr>\n",
              "  </thead>\n",
              "  <tbody>\n",
              "    <tr>\n",
              "      <th>47805</th>\n",
              "      <td>0</td>\n",
              "      <td>Medroxyprogesterone</td>\n",
              "      <td>Abnormal Uterine Bleeding</td>\n",
              "      <td>\"Been on the depo injection since January 2015...</td>\n",
              "      <td>3.0</td>\n",
              "      <td>October 28, 2015</td>\n",
              "      <td>4</td>\n",
              "    </tr>\n",
              "    <tr>\n",
              "      <th>93135</th>\n",
              "      <td>2</td>\n",
              "      <td>Medroxyprogesterone</td>\n",
              "      <td>Amenorrhea</td>\n",
              "      <td>\"Im 21 years old and recently found out I migh...</td>\n",
              "      <td>10.0</td>\n",
              "      <td>October 27, 2015</td>\n",
              "      <td>11</td>\n",
              "    </tr>\n",
              "    <tr>\n",
              "      <th>143331</th>\n",
              "      <td>3</td>\n",
              "      <td>Medroxyprogesterone</td>\n",
              "      <td>Abnormal Uterine Bleeding</td>\n",
              "      <td>\"I have been on the shot 11 years and until a ...</td>\n",
              "      <td>8.0</td>\n",
              "      <td>October 27, 2015</td>\n",
              "      <td>7</td>\n",
              "    </tr>\n",
              "    <tr>\n",
              "      <th>57030</th>\n",
              "      <td>4</td>\n",
              "      <td>Medroxyprogesterone</td>\n",
              "      <td>Birth Control</td>\n",
              "      <td>\"Ive had four shots at this point. I was on bi...</td>\n",
              "      <td>9.0</td>\n",
              "      <td>October 26, 2015</td>\n",
              "      <td>12</td>\n",
              "    </tr>\n",
              "    <tr>\n",
              "      <th>106347</th>\n",
              "      <td>5</td>\n",
              "      <td>Medroxyprogesterone</td>\n",
              "      <td>Abnormal Uterine Bleeding</td>\n",
              "      <td>\"I had a total of 3 shots. I got my first one ...</td>\n",
              "      <td>1.0</td>\n",
              "      <td>October 25, 2015</td>\n",
              "      <td>4</td>\n",
              "    </tr>\n",
              "  </tbody>\n",
              "</table>\n",
              "</div>"
            ],
            "text/plain": [
              "        index             drugName                  condition  \\\n",
              "47805       0  Medroxyprogesterone  Abnormal Uterine Bleeding   \n",
              "93135       2  Medroxyprogesterone                 Amenorrhea   \n",
              "143331      3  Medroxyprogesterone  Abnormal Uterine Bleeding   \n",
              "57030       4  Medroxyprogesterone              Birth Control   \n",
              "106347      5  Medroxyprogesterone  Abnormal Uterine Bleeding   \n",
              "\n",
              "                                                   review  rating  \\\n",
              "47805   \"Been on the depo injection since January 2015...     3.0   \n",
              "93135   \"Im 21 years old and recently found out I migh...    10.0   \n",
              "143331  \"I have been on the shot 11 years and until a ...     8.0   \n",
              "57030   \"Ive had four shots at this point. I was on bi...     9.0   \n",
              "106347  \"I had a total of 3 shots. I got my first one ...     1.0   \n",
              "\n",
              "                    date  usefulCount  \n",
              "47805   October 28, 2015            4  \n",
              "93135   October 27, 2015           11  \n",
              "143331  October 27, 2015            7  \n",
              "57030   October 26, 2015           12  \n",
              "106347  October 25, 2015            4  "
            ]
          },
          "execution_count": 12,
          "metadata": {},
          "output_type": "execute_result"
        }
      ],
      "source": [
        "df['review'] = df['review'].str.replace('&#039;', '')\n",
        "df.head()"
      ]
    },
    {
      "cell_type": "code",
      "execution_count": 13,
      "metadata": {
        "colab": {
          "base_uri": "https://localhost:8080/"
        },
        "id": "possOessAMV8",
        "outputId": "39428203-e8e6-456f-dd2b-92b913779ae1"
      },
      "outputs": [
        {
          "data": {
            "text/plain": [
              "index          0\n",
              "drugName       0\n",
              "condition      0\n",
              "review         0\n",
              "rating         0\n",
              "date           0\n",
              "usefulCount    0\n",
              "dtype: int64"
            ]
          },
          "execution_count": 13,
          "metadata": {},
          "output_type": "execute_result"
        }
      ],
      "source": [
        "df.isnull().sum()"
      ]
    },
    {
      "cell_type": "code",
      "execution_count": 14,
      "metadata": {
        "colab": {
          "base_uri": "https://localhost:8080/"
        },
        "id": "G3XFrfgvATYI",
        "outputId": "49584231-2cd9-4e4c-b3f2-3f658850f280"
      },
      "outputs": [
        {
          "data": {
            "text/plain": [
              "index          0\n",
              "drugName       0\n",
              "condition      0\n",
              "review         0\n",
              "rating         0\n",
              "date           0\n",
              "usefulCount    0\n",
              "dtype: int64"
            ]
          },
          "execution_count": 14,
          "metadata": {},
          "output_type": "execute_result"
        }
      ],
      "source": [
        "df = df.dropna()\n",
        "df.isnull().sum()"
      ]
    },
    {
      "cell_type": "code",
      "execution_count": 10,
      "metadata": {
        "colab": {
          "base_uri": "https://localhost:8080/",
          "height": 89
        },
        "id": "SZiS1fFBAjtZ",
        "outputId": "212c0c6d-ac38-449b-a34d-cda346cc4d3b"
      },
      "outputs": [
        {
          "data": {
            "text/html": [
              "<div>\n",
              "<style scoped>\n",
              "    .dataframe tbody tr th:only-of-type {\n",
              "        vertical-align: middle;\n",
              "    }\n",
              "\n",
              "    .dataframe tbody tr th {\n",
              "        vertical-align: top;\n",
              "    }\n",
              "\n",
              "    .dataframe thead th {\n",
              "        text-align: right;\n",
              "    }\n",
              "</style>\n",
              "<table border=\"1\" class=\"dataframe\">\n",
              "  <thead>\n",
              "    <tr style=\"text-align: right;\">\n",
              "      <th></th>\n",
              "      <th>index</th>\n",
              "      <th>drugName</th>\n",
              "      <th>condition</th>\n",
              "      <th>review</th>\n",
              "      <th>rating</th>\n",
              "      <th>date</th>\n",
              "      <th>usefulCount</th>\n",
              "    </tr>\n",
              "  </thead>\n",
              "  <tbody>\n",
              "  </tbody>\n",
              "</table>\n",
              "</div>"
            ],
            "text/plain": [
              "Empty DataFrame\n",
              "Columns: [index, drugName, condition, review, rating, date, usefulCount]\n",
              "Index: []"
            ]
          },
          "execution_count": 10,
          "metadata": {},
          "output_type": "execute_result"
        }
      ],
      "source": [
        "duplicates = df[df.duplicated()]\n",
        "duplicates"
      ]
    },
    {
      "cell_type": "markdown",
      "metadata": {
        "id": "Pi_wm9XgD2yH"
      },
      "source": [
        "There are no duplicate values as well and we can move ahead with our analysis. Since the dataset is large, we can randomly select 20,000 rows for initial analysis."
      ]
    },
    {
      "cell_type": "markdown",
      "metadata": {
        "id": "gdTfDmDtVONA"
      },
      "source": [
        "## Sentiment Categorization"
      ]
    },
    {
      "cell_type": "code",
      "execution_count": 16,
      "metadata": {
        "colab": {
          "base_uri": "https://localhost:8080/"
        },
        "id": "-ZDd9yHNVQzc",
        "outputId": "e14ed040-9de7-42f8-db76-19ea3ba33d11"
      },
      "outputs": [
        {
          "data": {
            "text/plain": [
              "array([ 3., 10.,  8.,  9.,  1.,  5.,  2.,  7.,  4.,  6.])"
            ]
          },
          "execution_count": 16,
          "metadata": {},
          "output_type": "execute_result"
        }
      ],
      "source": [
        "df.rating.unique()"
      ]
    },
    {
      "cell_type": "code",
      "execution_count": 17,
      "metadata": {
        "id": "fOHFBIAmV2KJ"
      },
      "outputs": [],
      "source": [
        "df['sentiment'] = df['rating'].apply(lambda x: 'negative' if x <= 3 else ('neutral' if x <= 6 else 'positive'))"
      ]
    },
    {
      "cell_type": "markdown",
      "metadata": {
        "id": "8xWUc8zRV0I4"
      },
      "source": [
        "##Sampling"
      ]
    },
    {
      "cell_type": "code",
      "execution_count": 18,
      "metadata": {
        "colab": {
          "base_uri": "https://localhost:8080/"
        },
        "id": "Pt3JP-_tA5v8",
        "outputId": "5690a5c9-8fbe-4aa1-8ef4-7c4e380f24bc"
      },
      "outputs": [
        {
          "data": {
            "text/plain": [
              "(20000, 8)"
            ]
          },
          "execution_count": 18,
          "metadata": {},
          "output_type": "execute_result"
        }
      ],
      "source": [
        "sample_df = df.sample(n=20000, random_state=42)\n",
        "sample_df.shape"
      ]
    },
    {
      "cell_type": "markdown",
      "metadata": {
        "id": "3P5CztP9ANlp"
      },
      "source": [
        "##Tokenization"
      ]
    },
    {
      "cell_type": "code",
      "execution_count": 23,
      "metadata": {
        "colab": {
          "base_uri": "https://localhost:8080/"
        },
        "id": "lCNE2mtzEaDa",
        "outputId": "6f7b3c22-2257-4075-ff95-b40217c90a0e"
      },
      "outputs": [
        {
          "name": "stderr",
          "output_type": "stream",
          "text": [
            "[nltk_data] Downloading package punkt to /root/nltk_data...\n",
            "[nltk_data]   Unzipping tokenizers/punkt.zip.\n"
          ]
        },
        {
          "data": {
            "text/plain": [
              "True"
            ]
          },
          "execution_count": 23,
          "metadata": {},
          "output_type": "execute_result"
        }
      ],
      "source": [
        "from nltk.tokenize import word_tokenize, wordpunct_tokenize, sent_tokenize, WhitespaceTokenizer\n",
        "from nltk.tokenize.casual import TweetTokenizer\n",
        "import nltk\n",
        "nltk.download('punkt')"
      ]
    },
    {
      "cell_type": "code",
      "execution_count": 21,
      "metadata": {
        "colab": {
          "base_uri": "https://localhost:8080/"
        },
        "id": "PUUBHP5c_4oD",
        "outputId": "f0ead7d0-4d1e-46ed-c2eb-698159e52031"
      },
      "outputs": [
        {
          "data": {
            "text/plain": [
              "213869"
            ]
          },
          "execution_count": 21,
          "metadata": {},
          "output_type": "execute_result"
        }
      ],
      "source": [
        "review_len = len(df['review'])\n",
        "review_len"
      ]
    },
    {
      "cell_type": "markdown",
      "metadata": {
        "id": "4yTL9mUh5J1R"
      },
      "source": [
        "###Sentence Tokenization"
      ]
    },
    {
      "cell_type": "code",
      "execution_count": 27,
      "metadata": {
        "id": "XdNBXmmTA2xI"
      },
      "outputs": [],
      "source": [
        "tokenized = [[sent_tokenize(review)] for review in df['review']]\n",
        "#tokenized"
      ]
    },
    {
      "cell_type": "markdown",
      "metadata": {
        "id": "rab3vlrRCanE"
      },
      "source": [
        "###Word Tokenization"
      ]
    },
    {
      "cell_type": "code",
      "execution_count": 28,
      "metadata": {
        "id": "GTDl0-5lCaOM"
      },
      "outputs": [],
      "source": [
        "tokenized_word = [word_tokenize(review) for review in df['review']]\n",
        "#tokenized_word.head()"
      ]
    },
    {
      "cell_type": "markdown",
      "metadata": {
        "id": "hURmGa3CDocN"
      },
      "source": [
        "###Punctuation Tokenization"
      ]
    },
    {
      "cell_type": "code",
      "execution_count": 29,
      "metadata": {
        "id": "bWy5V2cwDwHS"
      },
      "outputs": [],
      "source": [
        "tokenized_punct = [WhitespaceTokenizer().tokenize(review) for review in df['review']]\n",
        "#tokenized_punct"
      ]
    }
  ],
  "metadata": {
    "colab": {
      "provenance": []
    },
    "kernelspec": {
      "display_name": "Python 3",
      "name": "python3"
    },
    "language_info": {
      "codemirror_mode": {
        "name": "ipython",
        "version": 3
      },
      "file_extension": ".py",
      "mimetype": "text/x-python",
      "name": "python",
      "nbconvert_exporter": "python",
      "pygments_lexer": "ipython3",
      "version": "3.11.4"
    }
  },
  "nbformat": 4,
  "nbformat_minor": 0
}
