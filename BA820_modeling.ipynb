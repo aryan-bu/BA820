{
 "cells": [
  {
   "cell_type": "markdown",
   "metadata": {
    "id": "HIx_t48UK6ZM"
   },
   "source": [
    "# Classification Models"
   ]
  },
  {
   "cell_type": "markdown",
   "metadata": {
    "tags": []
   },
   "source": [
    "## BOW Classifiers"
   ]
  },
  {
   "cell_type": "code",
   "execution_count": 64,
   "metadata": {
    "tags": []
   },
   "outputs": [],
   "source": [
    "import pandas as pd\n",
    "\n",
    "sample_df = pd.read_csv('gs://ba820-project-files/sample_50000.csv')\n",
    "bow = pd.read_csv('gs://ba820-project-files/bow_50000.csv')"
   ]
  },
  {
   "cell_type": "code",
   "execution_count": 65,
   "metadata": {
    "id": "YGoBxhxQLs-I",
    "tags": []
   },
   "outputs": [],
   "source": [
    "y = sample_df['sentiment']\n",
    "X = bow"
   ]
  },
  {
   "cell_type": "code",
   "execution_count": 66,
   "metadata": {
    "id": "KNDwkNZsK8o0",
    "tags": []
   },
   "outputs": [],
   "source": [
    "from sklearn.model_selection import train_test_split\n",
    "\n",
    "# train/test split\n",
    "X_train, X_test, y_train, y_test = train_test_split(X, y, test_size=0.2, random_state=42)"
   ]
  },
  {
   "cell_type": "code",
   "execution_count": 67,
   "metadata": {
    "id": "UIO_5Ys_MN0d",
    "tags": []
   },
   "outputs": [
    {
     "data": {
      "text/plain": [
       "(40000, 31363)"
      ]
     },
     "execution_count": 67,
     "metadata": {},
     "output_type": "execute_result"
    }
   ],
   "source": [
    "X_train.shape"
   ]
  },
  {
   "cell_type": "code",
   "execution_count": 68,
   "metadata": {
    "id": "bb4QnbnkMWqU",
    "tags": []
   },
   "outputs": [
    {
     "data": {
      "text/plain": [
       "(40000,)"
      ]
     },
     "execution_count": 68,
     "metadata": {},
     "output_type": "execute_result"
    }
   ],
   "source": [
    "y_train.shape"
   ]
  },
  {
   "cell_type": "markdown",
   "metadata": {},
   "source": [
    "## Minority Oversampling"
   ]
  },
  {
   "cell_type": "code",
   "execution_count": 6,
   "metadata": {
    "tags": []
   },
   "outputs": [
    {
     "name": "stdout",
     "output_type": "stream",
     "text": [
      "Requirement already satisfied: imblearn in /opt/conda/lib/python3.10/site-packages (0.0)\n",
      "Requirement already satisfied: imbalanced-learn in /opt/conda/lib/python3.10/site-packages (from imblearn) (0.12.0)\n",
      "Requirement already satisfied: numpy>=1.17.3 in /opt/conda/lib/python3.10/site-packages (from imbalanced-learn->imblearn) (1.25.2)\n",
      "Requirement already satisfied: scipy>=1.5.0 in /opt/conda/lib/python3.10/site-packages (from imbalanced-learn->imblearn) (1.11.4)\n",
      "Requirement already satisfied: scikit-learn>=1.0.2 in /opt/conda/lib/python3.10/site-packages (from imbalanced-learn->imblearn) (1.4.0)\n",
      "Requirement already satisfied: joblib>=1.1.1 in /opt/conda/lib/python3.10/site-packages (from imbalanced-learn->imblearn) (1.3.2)\n",
      "Requirement already satisfied: threadpoolctl>=2.0.0 in /opt/conda/lib/python3.10/site-packages (from imbalanced-learn->imblearn) (3.3.0)\n",
      "Note: you may need to restart the kernel to use updated packages.\n"
     ]
    }
   ],
   "source": [
    "pip install imblearn"
   ]
  },
  {
   "cell_type": "code",
   "execution_count": 7,
   "metadata": {
    "id": "iVKcq1R_Ttiu",
    "tags": []
   },
   "outputs": [],
   "source": [
    "from imblearn.over_sampling import SMOTE\n",
    "\n",
    "# Apply SMOTE to the training data\n",
    "smote = SMOTE(random_state=42)\n",
    "X_train_smote, y_train_smote = smote.fit_resample(X_train, y_train)\n",
    "\n",
    "# Keep the test data the same\n",
    "X_test_smote, y_test_smote = X_test, y_test"
   ]
  },
  {
   "cell_type": "markdown",
   "metadata": {
    "id": "0mZ95wqTTFgx"
   },
   "source": [
    "### LogReg without SMOTE"
   ]
  },
  {
   "cell_type": "code",
   "execution_count": 10,
   "metadata": {
    "id": "GjNtih0-MdAb",
    "tags": []
   },
   "outputs": [
    {
     "name": "stdout",
     "output_type": "stream",
     "text": [
      "Balanced accuracy:  0.517361399720158\n",
      "Accuracy: 0.7585\n",
      "              precision    recall  f1-score   support\n",
      "\n",
      "    negative       0.68      0.54      0.60      2200\n",
      "     neutral       0.44      0.06      0.11      1151\n",
      "    positive       0.78      0.95      0.86      6649\n",
      "\n",
      "    accuracy                           0.76     10000\n",
      "   macro avg       0.63      0.52      0.52     10000\n",
      "weighted avg       0.72      0.76      0.72     10000\n",
      "\n"
     ]
    }
   ],
   "source": [
    "from sklearn.linear_model import LogisticRegression\n",
    "from sklearn.metrics import accuracy_score, classification_report, balanced_accuracy_score\n",
    "from sklearn.metrics import confusion_matrix\n",
    "\n",
    "model = LogisticRegression(C = 0.01, max_iter=1000)\n",
    "model.fit(X_train, y_train)\n",
    "\n",
    "y_pred = model.predict(X_test)\n",
    "\n",
    "print(f\"Balanced accuracy:  {balanced_accuracy_score(y_test, y_pred)}\")\n",
    "print(f\"Accuracy: {accuracy_score(y_test, y_pred)}\")\n",
    "print(classification_report(y_test, y_pred))"
   ]
  },
  {
   "cell_type": "markdown",
   "metadata": {
    "id": "L5kYAfAaTIQV"
   },
   "source": [
    "### LogReg with SMOTE"
   ]
  },
  {
   "cell_type": "code",
   "execution_count": 11,
   "metadata": {
    "colab": {
     "base_uri": "https://localhost:8080/",
     "height": 161
    },
    "id": "mQaC_cRdREWW",
    "outputId": "6c8a381f-419f-4cbe-dba3-9fa17d5082ee",
    "tags": []
   },
   "outputs": [
    {
     "name": "stdout",
     "output_type": "stream",
     "text": [
      "Balanced accuracy:  0.5561664602849078\n",
      "Accuracy: 0.6792\n",
      "              precision    recall  f1-score   support\n",
      "\n",
      "    negative       0.59      0.63      0.61      2200\n",
      "     neutral       0.20      0.27      0.23      1151\n",
      "    positive       0.84      0.77      0.80      6649\n",
      "\n",
      "    accuracy                           0.68     10000\n",
      "   macro avg       0.54      0.56      0.55     10000\n",
      "weighted avg       0.71      0.68      0.69     10000\n",
      "\n"
     ]
    }
   ],
   "source": [
    "model = LogisticRegression(C = 0.01, max_iter=1000)\n",
    "model.fit(X_train_smote, y_train_smote)\n",
    "\n",
    "y_pred_smote = model.predict(X_test_smote)\n",
    "\n",
    "print(f\"Balanced accuracy:  {balanced_accuracy_score(y_test_smote, y_pred_smote)}\")\n",
    "print(f\"Accuracy: {accuracy_score(y_test_smote, y_pred_smote)}\")\n",
    "print(classification_report(y_test_smote, y_pred_smote))"
   ]
  },
  {
   "cell_type": "markdown",
   "metadata": {},
   "source": [
    "### Naive Bayes without SMOTE"
   ]
  },
  {
   "cell_type": "code",
   "execution_count": 69,
   "metadata": {},
   "outputs": [
    {
     "name": "stdout",
     "output_type": "stream",
     "text": [
      "Balanced accuracy:  0.5495540055208382\n",
      "Accuracy: 0.7387\n",
      "              precision    recall  f1-score   support\n",
      "\n",
      "    negative       0.62      0.60      0.61      2200\n",
      "     neutral       0.32      0.17      0.22      1151\n",
      "    positive       0.81      0.88      0.84      6649\n",
      "\n",
      "    accuracy                           0.74     10000\n",
      "   macro avg       0.58      0.55      0.56     10000\n",
      "weighted avg       0.71      0.74      0.72     10000\n",
      "\n"
     ]
    }
   ],
   "source": [
    "from sklearn.naive_bayes import MultinomialNB\n",
    "from sklearn.metrics import classification_report, accuracy_score, balanced_accuracy_score\n",
    "\n",
    "model = MultinomialNB(alpha = 1)\n",
    "model.fit(X_train, y_train)\n",
    "\n",
    "y_pred = model.predict(X_test)\n",
    "\n",
    "print(f\"Balanced accuracy:  {balanced_accuracy_score(y_test, y_pred)}\")\n",
    "print(f\"Accuracy: {accuracy_score(y_test, y_pred)}\")\n",
    "print(classification_report(y_test, y_pred))"
   ]
  },
  {
   "cell_type": "markdown",
   "metadata": {},
   "source": [
    "### Naive Bayes with SMOTE"
   ]
  },
  {
   "cell_type": "code",
   "execution_count": 9,
   "metadata": {
    "tags": []
   },
   "outputs": [
    {
     "name": "stdout",
     "output_type": "stream",
     "text": [
      "Balanced accuracy: 0.5678622523924242\n",
      "Accuracy: 0.6754\n",
      "              precision    recall  f1-score   support\n",
      "\n",
      "    negative       0.59      0.61      0.60      2200\n",
      "     neutral       0.22      0.33      0.27      1151\n",
      "    positive       0.84      0.75      0.79      6649\n",
      "\n",
      "    accuracy                           0.68     10000\n",
      "   macro avg       0.55      0.57      0.55     10000\n",
      "weighted avg       0.71      0.68      0.69     10000\n",
      "\n"
     ]
    }
   ],
   "source": [
    "model = MultinomialNB(alpha = 1)\n",
    "model.fit(X_train_smote, y_train_smote)\n",
    "\n",
    "y_pred_smote = model.predict(X_test_smote)\n",
    "\n",
    "print(f\"Balanced accuracy: {balanced_accuracy_score(y_test_smote, y_pred_smote)}\")\n",
    "print(f\"Accuracy: {accuracy_score(y_test_smote, y_pred_smote)}\")\n",
    "print(classification_report(y_test_smote, y_pred_smote))"
   ]
  },
  {
   "cell_type": "markdown",
   "metadata": {
    "tags": []
   },
   "source": [
    "## GloVe-50 Classifiers"
   ]
  },
  {
   "cell_type": "code",
   "execution_count": 53,
   "metadata": {
    "tags": []
   },
   "outputs": [],
   "source": [
    "emd = pd.read_csv('gs://ba820-project-files/GloVe_embeddings.csv', header=None)"
   ]
  },
  {
   "cell_type": "code",
   "execution_count": 54,
   "metadata": {
    "tags": []
   },
   "outputs": [],
   "source": [
    "X = emd\n",
    "y = sample_df['sentiment']"
   ]
  },
  {
   "cell_type": "code",
   "execution_count": 55,
   "metadata": {
    "tags": []
   },
   "outputs": [],
   "source": [
    "from sklearn.model_selection import train_test_split\n",
    "\n",
    "X_train, X_test, y_train, y_test = train_test_split(X, y, test_size=0.2, random_state=42)"
   ]
  },
  {
   "cell_type": "markdown",
   "metadata": {
    "tags": []
   },
   "source": [
    "### Minority Oversampling"
   ]
  },
  {
   "cell_type": "code",
   "execution_count": 56,
   "metadata": {
    "tags": []
   },
   "outputs": [],
   "source": [
    "from imblearn.over_sampling import SMOTE\n",
    "\n",
    "# Apply SMOTE to the training data\n",
    "smote = SMOTE(random_state=42)\n",
    "X_train_smote, y_train_smote = smote.fit_resample(X_train, y_train)\n",
    "\n",
    "# Keep the test data the same\n",
    "X_test_smote, y_test_smote = X_test, y_test"
   ]
  },
  {
   "cell_type": "markdown",
   "metadata": {},
   "source": [
    "### LogReg without SMOTE"
   ]
  },
  {
   "cell_type": "code",
   "execution_count": 44,
   "metadata": {
    "tags": []
   },
   "outputs": [
    {
     "name": "stdout",
     "output_type": "stream",
     "text": [
      "Balanced accuracy:  0.4009661512097969\n",
      "Accuracy: 0.6902\n",
      "              precision    recall  f1-score   support\n",
      "\n",
      "    negative       0.56      0.25      0.34      2200\n",
      "     neutral       0.00      0.00      0.00      1151\n",
      "    positive       0.70      0.96      0.81      6649\n",
      "\n",
      "    accuracy                           0.69     10000\n",
      "   macro avg       0.42      0.40      0.38     10000\n",
      "weighted avg       0.59      0.69      0.61     10000\n",
      "\n"
     ]
    }
   ],
   "source": [
    "from sklearn.linear_model import LogisticRegression\n",
    "from sklearn.metrics import accuracy_score, classification_report, balanced_accuracy_score\n",
    "from sklearn.metrics import confusion_matrix\n",
    "\n",
    "model = LogisticRegression(C = 10, max_iter=1000)\n",
    "model.fit(X_train, y_train)\n",
    "\n",
    "y_pred = model.predict(X_test)\n",
    "\n",
    "print(f\"Balanced accuracy:  {balanced_accuracy_score(y_test, y_pred)}\")\n",
    "print(f\"Accuracy: {accuracy_score(y_test, y_pred)}\")\n",
    "print(classification_report(y_test, y_pred))"
   ]
  },
  {
   "cell_type": "markdown",
   "metadata": {},
   "source": [
    "### LogReg with SMOTE"
   ]
  },
  {
   "cell_type": "code",
   "execution_count": 45,
   "metadata": {
    "tags": []
   },
   "outputs": [
    {
     "name": "stdout",
     "output_type": "stream",
     "text": [
      "Balanced accuracy:  0.4897822283707856\n",
      "Accuracy: 0.5182\n",
      "              precision    recall  f1-score   support\n",
      "\n",
      "    negative       0.40      0.56      0.47      2200\n",
      "     neutral       0.17      0.38      0.23      1151\n",
      "    positive       0.82      0.53      0.64      6649\n",
      "\n",
      "    accuracy                           0.52     10000\n",
      "   macro avg       0.46      0.49      0.45     10000\n",
      "weighted avg       0.65      0.52      0.56     10000\n",
      "\n"
     ]
    }
   ],
   "source": [
    "model = LogisticRegression(C = 10, max_iter=1000)\n",
    "model.fit(X_train_smote, y_train_smote)\n",
    "\n",
    "y_pred_smote = model.predict(X_test_smote)\n",
    "\n",
    "print(f\"Balanced accuracy:  {balanced_accuracy_score(y_test_smote, y_pred_smote)}\")\n",
    "print(f\"Accuracy: {accuracy_score(y_test_smote, y_pred_smote)}\")\n",
    "print(classification_report(y_test_smote, y_pred_smote))"
   ]
  },
  {
   "cell_type": "markdown",
   "metadata": {},
   "source": [
    "### Naive Bayes without SMOTE"
   ]
  },
  {
   "cell_type": "code",
   "execution_count": 46,
   "metadata": {
    "tags": []
   },
   "outputs": [
    {
     "name": "stdout",
     "output_type": "stream",
     "text": [
      "Balanced accuracy:  0.4423744723533159\n",
      "Accuracy: 0.613\n",
      "              precision    recall  f1-score   support\n",
      "\n",
      "    negative       0.40      0.36      0.38      2200\n",
      "     neutral       0.19      0.20      0.20      1151\n",
      "    positive       0.75      0.77      0.76      6649\n",
      "\n",
      "    accuracy                           0.61     10000\n",
      "   macro avg       0.45      0.44      0.44     10000\n",
      "weighted avg       0.61      0.61      0.61     10000\n",
      "\n"
     ]
    }
   ],
   "source": [
    "from sklearn.naive_bayes import GaussianNB\n",
    "from sklearn.metrics import classification_report, accuracy_score, balanced_accuracy_score\n",
    "\n",
    "priors=[0.22,0.12,0.66]\n",
    "\n",
    "model = GaussianNB(priors=priors)\n",
    "model.fit(X_train, y_train)\n",
    "\n",
    "y_pred = model.predict(X_test)\n",
    "\n",
    "print(f\"Balanced accuracy:  {balanced_accuracy_score(y_test, y_pred)}\")\n",
    "print(f\"Accuracy: {accuracy_score(y_test, y_pred)}\")\n",
    "print(classification_report(y_test, y_pred))"
   ]
  },
  {
   "cell_type": "markdown",
   "metadata": {},
   "source": [
    "### Naive Bayes with SMOTE"
   ]
  },
  {
   "cell_type": "code",
   "execution_count": 57,
   "metadata": {
    "tags": []
   },
   "outputs": [
    {
     "name": "stdout",
     "output_type": "stream",
     "text": [
      "Balanced accuracy:  0.4256002420314789\n",
      "Accuracy: 0.4023\n",
      "              precision    recall  f1-score   support\n",
      "\n",
      "    negative       0.40      0.32      0.35      2200\n",
      "     neutral       0.14      0.55      0.22      1151\n",
      "    positive       0.75      0.40      0.53      6649\n",
      "\n",
      "    accuracy                           0.40     10000\n",
      "   macro avg       0.43      0.43      0.37     10000\n",
      "weighted avg       0.60      0.40      0.45     10000\n",
      "\n"
     ]
    }
   ],
   "source": [
    "from sklearn.naive_bayes import GaussianNB\n",
    "from sklearn.metrics import classification_report, accuracy_score, balanced_accuracy_score\n",
    "\n",
    "model = GaussianNB()\n",
    "model.fit(X_train_smote, y_train_smote)\n",
    "\n",
    "y_pred_smote = model.predict(X_test_smote)\n",
    "\n",
    "print(f\"Balanced accuracy:  {balanced_accuracy_score(y_test_smote, y_pred_smote)}\")\n",
    "print(f\"Accuracy: {accuracy_score(y_test_smote, y_pred_smote)}\")\n",
    "print(classification_report(y_test_smote, y_pred_smote))"
   ]
  },
  {
   "cell_type": "markdown",
   "metadata": {},
   "source": [
    "## GloVe-300 Classifiers"
   ]
  },
  {
   "cell_type": "code",
   "execution_count": 58,
   "metadata": {
    "tags": []
   },
   "outputs": [],
   "source": [
    "emd = pd.read_csv('gs://ba820-project-files/GloVe_embeddings_50000_300.csv', header=None)"
   ]
  },
  {
   "cell_type": "code",
   "execution_count": 59,
   "metadata": {
    "tags": []
   },
   "outputs": [],
   "source": [
    "X = emd\n",
    "y = sample_df['sentiment']"
   ]
  },
  {
   "cell_type": "code",
   "execution_count": 60,
   "metadata": {
    "tags": []
   },
   "outputs": [],
   "source": [
    "from sklearn.model_selection import train_test_split\n",
    "\n",
    "X_train, X_test, y_train, y_test = train_test_split(X, y, test_size=0.2, random_state=42)"
   ]
  },
  {
   "cell_type": "markdown",
   "metadata": {},
   "source": [
    "### Minority Oversampling"
   ]
  },
  {
   "cell_type": "code",
   "execution_count": 61,
   "metadata": {
    "tags": []
   },
   "outputs": [],
   "source": [
    "from imblearn.over_sampling import SMOTE\n",
    "\n",
    "# Apply SMOTE to the training data\n",
    "smote = SMOTE(random_state=42)\n",
    "X_train_smote, y_train_smote = smote.fit_resample(X_train, y_train)\n",
    "\n",
    "# Keep the test data the same\n",
    "X_test_smote, y_test_smote = X_test, y_test"
   ]
  },
  {
   "cell_type": "markdown",
   "metadata": {
    "tags": []
   },
   "source": [
    "### LogReg without SMOTE"
   ]
  },
  {
   "cell_type": "code",
   "execution_count": 30,
   "metadata": {
    "tags": []
   },
   "outputs": [
    {
     "name": "stdout",
     "output_type": "stream",
     "text": [
      "Balanced accuracy:  0.4665031714621901\n",
      "Accuracy: 0.7205\n",
      "              precision    recall  f1-score   support\n",
      "\n",
      "    negative       0.61      0.45      0.52      2200\n",
      "     neutral       0.27      0.02      0.03      1151\n",
      "    positive       0.75      0.93      0.83      6649\n",
      "\n",
      "    accuracy                           0.72     10000\n",
      "   macro avg       0.54      0.47      0.46     10000\n",
      "weighted avg       0.66      0.72      0.67     10000\n",
      "\n"
     ]
    }
   ],
   "source": [
    "from sklearn.linear_model import LogisticRegression\n",
    "from sklearn.metrics import accuracy_score, classification_report, balanced_accuracy_score\n",
    "from sklearn.metrics import confusion_matrix\n",
    "\n",
    "model = LogisticRegression(C = 10, max_iter=1000)\n",
    "model.fit(X_train, y_train)\n",
    "\n",
    "y_pred = model.predict(X_test)\n",
    "\n",
    "print(f\"Balanced accuracy:  {balanced_accuracy_score(y_test, y_pred)}\")\n",
    "print(f\"Accuracy: {accuracy_score(y_test, y_pred)}\")\n",
    "print(classification_report(y_test, y_pred))"
   ]
  },
  {
   "cell_type": "markdown",
   "metadata": {},
   "source": [
    "### LogReg with SMOTE"
   ]
  },
  {
   "cell_type": "code",
   "execution_count": 31,
   "metadata": {
    "tags": []
   },
   "outputs": [
    {
     "name": "stdout",
     "output_type": "stream",
     "text": [
      "Balanced accuracy:  0.5545018614944484\n",
      "Accuracy: 0.5875\n",
      "              precision    recall  f1-score   support\n",
      "\n",
      "    negative       0.48      0.61      0.54      2200\n",
      "     neutral       0.20      0.45      0.28      1151\n",
      "    positive       0.86      0.60      0.71      6649\n",
      "\n",
      "    accuracy                           0.59     10000\n",
      "   macro avg       0.52      0.55      0.51     10000\n",
      "weighted avg       0.70      0.59      0.62     10000\n",
      "\n"
     ]
    }
   ],
   "source": [
    "model = LogisticRegression(C = 10, max_iter=1000)\n",
    "model.fit(X_train_smote, y_train_smote)\n",
    "\n",
    "y_pred_smote = model.predict(X_test_smote)\n",
    "\n",
    "print(f\"Balanced accuracy:  {balanced_accuracy_score(y_test_smote, y_pred_smote)}\")\n",
    "print(f\"Accuracy: {accuracy_score(y_test_smote, y_pred_smote)}\")\n",
    "print(classification_report(y_test_smote, y_pred_smote))"
   ]
  },
  {
   "cell_type": "markdown",
   "metadata": {},
   "source": [
    "### Naive Bayes without SMOTE"
   ]
  },
  {
   "cell_type": "code",
   "execution_count": 62,
   "metadata": {
    "tags": []
   },
   "outputs": [
    {
     "name": "stdout",
     "output_type": "stream",
     "text": [
      "Balanced accuracy:  0.46228543506574704\n",
      "Accuracy: 0.4595\n",
      "              precision    recall  f1-score   support\n",
      "\n",
      "    negative       0.40      0.36      0.38      2200\n",
      "     neutral       0.15      0.55      0.24      1151\n",
      "    positive       0.81      0.48      0.60      6649\n",
      "\n",
      "    accuracy                           0.46     10000\n",
      "   macro avg       0.45      0.46      0.41     10000\n",
      "weighted avg       0.65      0.46      0.51     10000\n",
      "\n"
     ]
    }
   ],
   "source": [
    "from sklearn.naive_bayes import GaussianNB\n",
    "from sklearn.metrics import classification_report, accuracy_score, balanced_accuracy_score\n",
    "\n",
    "priors=[0.22,0.12,0.66]\n",
    "\n",
    "model = GaussianNB()\n",
    "model.fit(X_train, y_train)\n",
    "\n",
    "y_pred = model.predict(X_test)\n",
    "\n",
    "print(f\"Balanced accuracy:  {balanced_accuracy_score(y_test, y_pred)}\")\n",
    "print(f\"Accuracy: {accuracy_score(y_test, y_pred)}\")\n",
    "print(classification_report(y_test, y_pred))"
   ]
  },
  {
   "cell_type": "markdown",
   "metadata": {},
   "source": [
    "### Naive Bayes with SMOTE"
   ]
  },
  {
   "cell_type": "code",
   "execution_count": 63,
   "metadata": {
    "tags": []
   },
   "outputs": [
    {
     "name": "stdout",
     "output_type": "stream",
     "text": [
      "Balanced accuracy:  0.4185628281148344\n",
      "Accuracy: 0.4067\n",
      "              precision    recall  f1-score   support\n",
      "\n",
      "    negative       0.42      0.28      0.34      2200\n",
      "     neutral       0.14      0.55      0.22      1151\n",
      "    positive       0.72      0.42      0.53      6649\n",
      "\n",
      "    accuracy                           0.41     10000\n",
      "   macro avg       0.43      0.42      0.36     10000\n",
      "weighted avg       0.59      0.41      0.45     10000\n",
      "\n"
     ]
    }
   ],
   "source": [
    "from sklearn.naive_bayes import GaussianNB\n",
    "from sklearn.metrics import classification_report, accuracy_score, balanced_accuracy_score\n",
    "\n",
    "model = GaussianNB()\n",
    "model.fit(X_train_smote, y_train_smote)\n",
    "\n",
    "y_pred_smote = model.predict(X_test_smote)\n",
    "\n",
    "print(f\"Balanced accuracy:  {balanced_accuracy_score(y_test_smote, y_pred_smote)}\")\n",
    "print(f\"Accuracy: {accuracy_score(y_test_smote, y_pred_smote)}\")\n",
    "print(classification_report(y_test_smote, y_pred_smote))"
   ]
  }
 ],
 "metadata": {
  "colab": {
   "provenance": []
  },
  "environment": {
   "kernel": "python3",
   "name": "common-cpu.m117",
   "type": "gcloud",
   "uri": "us-docker.pkg.dev/deeplearning-platform-release/gcr.io/base-cpu:m117"
  },
  "kernelspec": {
   "display_name": "Python 3",
   "language": "python",
   "name": "python3"
  },
  "language_info": {
   "codemirror_mode": {
    "name": "ipython",
    "version": 3
   },
   "file_extension": ".py",
   "mimetype": "text/x-python",
   "name": "python",
   "nbconvert_exporter": "python",
   "pygments_lexer": "ipython3",
   "version": "3.10.13"
  }
 },
 "nbformat": 4,
 "nbformat_minor": 4
}
